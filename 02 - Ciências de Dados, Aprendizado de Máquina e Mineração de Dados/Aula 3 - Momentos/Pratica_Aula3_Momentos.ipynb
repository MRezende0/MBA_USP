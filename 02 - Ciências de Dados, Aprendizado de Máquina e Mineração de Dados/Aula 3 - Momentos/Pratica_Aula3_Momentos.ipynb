{
 "cells": [
  {
   "cell_type": "markdown",
   "metadata": {
    "id": "qT1fdaJW8umO"
   },
   "source": [
    "#SCC - ICMC - USP\n",
    "#**MBA EM INTELIGENCIA ARTIFICIAL E BIGDATA**\n",
    "## **CURSO 2 - CD, AM E DM**\n",
    "## **PROFA. ROSELI AP. FRANCELIN ROMERO**\n",
    "---\n",
    "\n",
    "# **Exemplo - Exploração e visualização de dados**\n",
    "\n",
    "## **OBJETIVO:**\n",
    "### Trabalhar com  MOMENTOS CENTRALIZADOS\n",
    "### DADOS MULTIDIMENSIONAIS"
   ]
  },
  {
   "cell_type": "markdown",
   "metadata": {
    "id": "d1hOMcF59K3k"
   },
   "source": [
    "Considere o conjunto de dados dos jogadores de futebol, que está no formato .csv."
   ]
  },
  {
   "cell_type": "code",
   "execution_count": 3,
   "metadata": {
    "id": "Pv_LsbuMByMY"
   },
   "outputs": [],
   "source": [
    "import pandas as pd\n",
    "import numpy as np\n",
    "import matplotlib.pyplot as plt\n",
    "import seaborn as sns"
   ]
  },
  {
   "cell_type": "code",
   "execution_count": 4,
   "metadata": {
    "id": "NNPla3RrQaPm"
   },
   "outputs": [],
   "source": [
    "jogo = pd.read_csv('jogadores.csv')\n",
    "player = pd.read_csv('player_attributes.csv')"
   ]
  },
  {
   "cell_type": "markdown",
   "metadata": {
    "id": "7jqaexSE9NCa"
   },
   "source": [
    "### Questão 01.\n",
    "\n",
    "Calcule os quatro momentos (média, variância, obliquidade e achatamento) para cada atributo do tipo numerico (float) do conjunto jogadores.csv.\n"
   ]
  },
  {
   "cell_type": "code",
   "execution_count": 5,
   "metadata": {
    "colab": {
     "base_uri": "https://localhost:8080/"
    },
    "executionInfo": {
     "elapsed": 329,
     "status": "ok",
     "timestamp": 1719255455210,
     "user": {
      "displayName": "Roseli Aparecida Francelin Romero",
      "userId": "04295547795514221387"
     },
     "user_tz": 180
    },
    "id": "V2IP8bJFW6BT",
    "outputId": "bf02f6a9-8202-453b-bc85-b86922d6a9c6"
   },
   "outputs": [
    {
     "name": "stdout",
     "output_type": "stream",
     "text": [
      "<class 'pandas.core.frame.DataFrame'>\n",
      "RangeIndex: 350 entries, 0 to 349\n",
      "Data columns (total 8 columns):\n",
      " #   Column              Non-Null Count  Dtype  \n",
      "---  ------              --------------  -----  \n",
      " 0   id                  350 non-null    int64  \n",
      " 1   player_api_id       350 non-null    int64  \n",
      " 2   player_name         350 non-null    object \n",
      " 3   player_fifa_api_id  350 non-null    int64  \n",
      " 4   birthday            350 non-null    object \n",
      " 5   height              350 non-null    float64\n",
      " 6   weight              350 non-null    float64\n",
      " 7   age                 350 non-null    int64  \n",
      "dtypes: float64(2), int64(4), object(2)\n",
      "memory usage: 22.0+ KB\n"
     ]
    }
   ],
   "source": [
    "jogo.info()"
   ]
  },
  {
   "cell_type": "code",
   "execution_count": 6,
   "metadata": {
    "colab": {
     "base_uri": "https://localhost:8080/"
    },
    "executionInfo": {
     "elapsed": 346,
     "status": "ok",
     "timestamp": 1719255489996,
     "user": {
      "displayName": "Roseli Aparecida Francelin Romero",
      "userId": "04295547795514221387"
     },
     "user_tz": 180
    },
    "id": "OrNwlDHsTyAF",
    "outputId": "ed2f3d05-0f9f-4cd1-db83-bf173d6e11bc"
   },
   "outputs": [
    {
     "name": "stdout",
     "output_type": "stream",
     "text": [
      "count    350.000000\n",
      "mean       1.820164\n",
      "std        0.060569\n",
      "min        1.651000\n",
      "25%        1.778000\n",
      "50%        1.828800\n",
      "75%        1.854200\n",
      "max        1.981200\n",
      "Name: height, dtype: float64\n",
      "count    350.000000\n",
      "mean      76.454938\n",
      "std        6.425071\n",
      "min       58.967008\n",
      "25%       72.121187\n",
      "50%       76.203518\n",
      "75%       81.193034\n",
      "max       96.161582\n",
      "Name: weight, dtype: float64\n",
      "count    350.000000\n",
      "mean      34.305714\n",
      "std        5.144415\n",
      "min       22.000000\n",
      "25%       31.000000\n",
      "50%       34.000000\n",
      "75%       38.000000\n",
      "max       49.000000\n",
      "Name: age, dtype: float64\n"
     ]
    }
   ],
   "source": [
    "# calculo dos 4 momentos para cada um dos atributos: height, weight, age\n",
    "print(jogo['height'].describe())\n",
    "print(jogo['weight'].describe())\n",
    "print(jogo['age'].describe())\n",
    "\n"
   ]
  },
  {
   "cell_type": "code",
   "execution_count": 7,
   "metadata": {
    "colab": {
     "base_uri": "https://localhost:8080/"
    },
    "executionInfo": {
     "elapsed": 330,
     "status": "ok",
     "timestamp": 1719255571763,
     "user": {
      "displayName": "Roseli Aparecida Francelin Romero",
      "userId": "04295547795514221387"
     },
     "user_tz": 180
    },
    "id": "G6qwP8bYXODT",
    "outputId": "6d3a0c73-248e-4ad4-85e3-d123ff97a6bb"
   },
   "outputs": [
    {
     "name": "stdout",
     "output_type": "stream",
     "text": [
      "Media altura é: 1.8201639999999997 \n",
      " media do peso 76.4549379308 \n",
      " media da idade 34.30571428571429\n",
      "\n",
      "\n",
      "Variancia altura é: 0.003668612683094556 \n",
      " Variancia do peso 41.28153862517228 \n",
      " Variancia da idade 26.46501023331969\n",
      "\n",
      "\n",
      "Obliquidade altura é: -0.12007981638318897 \n",
      " Obliquidade do peso 0.03027696608291131 \n",
      " Obliquidade da idade 0.2998913445412143\n",
      "\n",
      "\n",
      "Achatamento altura é: -0.4321787984728007 \n",
      " Achatamento do peso -0.10866518706788009 \n",
      " Achatamento da idade -0.3340241472353571\n",
      "\n",
      "\n"
     ]
    }
   ],
   "source": [
    "#média\n",
    "media_altura = jogo['height'].mean()\n",
    "media_peso = jogo['weight'].mean()\n",
    "media_idade = jogo['age'].mean()\n",
    "print(\"Media altura é:\", media_altura, \"\\n\",\"media do peso\", media_peso, \"\\n\", \"media da idade\", media_idade)\n",
    "print(\"\\n\")\n",
    "\n",
    "#variância\n",
    "variancia_altura = jogo['height'].var()\n",
    "variancia_peso = jogo['weight'].var()\n",
    "variancia_idade = jogo['age'].var()\n",
    "print(\"Variancia altura é:\", variancia_altura, \"\\n\",\"Variancia do peso\", variancia_peso, \"\\n\", \"Variancia da idade\", variancia_idade)\n",
    "print(\"\\n\")\n",
    "\n",
    "#obliquidade\n",
    "obliq_altura = jogo['height'].skew()\n",
    "obliq_peso = jogo['weight'].skew()\n",
    "obliq_idade = jogo['age'].skew()\n",
    "print(\"Obliquidade altura é:\", obliq_altura, \"\\n\",\"Obliquidade do peso\", obliq_peso, \"\\n\", \"Obliquidade da idade\", obliq_idade)\n",
    "print(\"\\n\")\n",
    "\n",
    "#achatamento ou curtose\n",
    "\n",
    "kurt_altura = jogo['height'].kurtosis()\n",
    "kurt_peso = jogo['weight'].kurtosis()\n",
    "kurt_idade = jogo['age'].kurtosis()\n",
    "print(\"Achatamento altura é:\", kurt_altura, \"\\n\",\"Achatamento do peso\", kurt_peso, \"\\n\", \"Achatamento da idade\", kurt_idade)\n",
    "print(\"\\n\")"
   ]
  },
  {
   "cell_type": "markdown",
   "metadata": {
    "id": "2M4Xfbkd9d6r"
   },
   "source": [
    "### Questão 02.\n",
    "\n",
    "Gere o boxplot de atributo 'height' do conjunto, analise se os dados estão centrados (simetria) e estime os quartis deste atributo."
   ]
  },
  {
   "cell_type": "code",
   "execution_count": 8,
   "metadata": {
    "colab": {
     "base_uri": "https://localhost:8080/",
     "height": 428
    },
    "executionInfo": {
     "elapsed": 850,
     "status": "ok",
     "timestamp": 1719255657564,
     "user": {
      "displayName": "Roseli Aparecida Francelin Romero",
      "userId": "04295547795514221387"
     },
     "user_tz": 180
    },
    "id": "FdHCuX3wZ0J7",
    "outputId": "c99a370b-deed-4143-800f-6b675597fb8a"
   },
   "outputs": [
    {
     "data": {
      "text/plain": [
       "<Axes: >"
      ]
     },
     "execution_count": 8,
     "metadata": {},
     "output_type": "execute_result"
    },
    {
     "data": {
      "image/png": "[encoded data removed]",
      "text/plain": [
       "<Figure size 640x480 with 1 Axes>"
      ]
     },
     "metadata": {},
     "output_type": "display_data"
    }
   ],
   "source": [
    "sns.boxplot(jogo['height'], showmeans = True)"
   ]
  },
  {
   "cell_type": "code",
   "execution_count": 9,
   "metadata": {
    "colab": {
     "base_uri": "https://localhost:8080/"
    },
    "executionInfo": {
     "elapsed": 309,
     "status": "ok",
     "timestamp": 1719255692182,
     "user": {
      "displayName": "Roseli Aparecida Francelin Romero",
      "userId": "04295547795514221387"
     },
     "user_tz": 180
    },
    "id": "NcQi_SO_aMMJ",
    "outputId": "532b8026-b16a-4ece-a54c-f10a860b9698"
   },
   "outputs": [
    {
     "name": "stdout",
     "output_type": "stream",
     "text": [
      "count    350.000000\n",
      "mean       1.820164\n",
      "std        0.060569\n",
      "min        1.651000\n",
      "25%        1.778000\n",
      "50%        1.828800\n",
      "75%        1.854200\n",
      "max        1.981200\n",
      "Name: height, dtype: float64\n"
     ]
    }
   ],
   "source": [
    "print(jogo['height'].describe())"
   ]
  },
  {
   "cell_type": "markdown",
   "metadata": {
    "id": "cDEDwRl29z3C"
   },
   "source": [
    "### Questão 03.\n",
    "O arquivo **player_attributes.csv** contém mais informações sobre os jogadores. Combine suas informações com o DataFrame já existente.\n",
    "\n",
    "Caso um atributo não esteja disponível para algum jogador, substitua o valor NaN pela média ou valor mais comum para aquele atributo.\n",
    "\n",
    "- Dica1: Utilize a função [merge](https://pandas.pydata.org/pandas-docs/stable/reference/api/pandas.DataFrame.merge.html) para combinar dois DataFrames que contém ao menos um atributo em comum\n",
    "\n",
    "- Dica 2: Ambos DataFrames possuem o atributo \"player_api_id\""
   ]
  },
  {
   "cell_type": "code",
   "execution_count": 10,
   "metadata": {
    "colab": {
     "base_uri": "https://localhost:8080/"
    },
    "executionInfo": {
     "elapsed": 319,
     "status": "ok",
     "timestamp": 1719255852174,
     "user": {
      "displayName": "Roseli Aparecida Francelin Romero",
      "userId": "04295547795514221387"
     },
     "user_tz": 180
    },
    "id": "U-XthI0Vaiv4",
    "outputId": "4bfa65ba-f3d5-4808-bced-995ea448b502"
   },
   "outputs": [
    {
     "name": "stdout",
     "output_type": "stream",
     "text": [
      "<class 'pandas.core.frame.DataFrame'>\n",
      "RangeIndex: 350 entries, 0 to 349\n",
      "Data columns (total 43 columns):\n",
      " #   Column               Non-Null Count  Dtype  \n",
      "---  ------               --------------  -----  \n",
      " 0   Unnamed: 0           350 non-null    int64  \n",
      " 1   id                   350 non-null    int64  \n",
      " 2   player_fifa_api_id   350 non-null    int64  \n",
      " 3   player_api_id        350 non-null    int64  \n",
      " 4   date                 350 non-null    object \n",
      " 5   overall_rating       350 non-null    float64\n",
      " 6   potential            350 non-null    float64\n",
      " 7   preferred_foot       350 non-null    object \n",
      " 8   attacking_work_rate  319 non-null    object \n",
      " 9   defensive_work_rate  350 non-null    object \n",
      " 10  crossing             350 non-null    float64\n",
      " 11  finishing            350 non-null    float64\n",
      " 12  heading_accuracy     350 non-null    float64\n",
      " 13  short_passing        350 non-null    float64\n",
      " 14  volleys              335 non-null    float64\n",
      " 15  dribbling            350 non-null    float64\n",
      " 16  curve                335 non-null    float64\n",
      " 17  free_kick_accuracy   350 non-null    float64\n",
      " 18  long_passing         350 non-null    float64\n",
      " 19  ball_control         350 non-null    float64\n",
      " 20  acceleration         350 non-null    float64\n",
      " 21  sprint_speed         350 non-null    float64\n",
      " 22  agility              335 non-null    float64\n",
      " 23  reactions            350 non-null    float64\n",
      " 24  balance              335 non-null    float64\n",
      " 25  shot_power           350 non-null    float64\n",
      " 26  jumping              335 non-null    float64\n",
      " 27  stamina              350 non-null    float64\n",
      " 28  strength             350 non-null    float64\n",
      " 29  long_shots           350 non-null    float64\n",
      " 30  aggression           350 non-null    float64\n",
      " 31  interceptions        350 non-null    float64\n",
      " 32  positioning          350 non-null    float64\n",
      " 33  vision               335 non-null    float64\n",
      " 34  penalties            350 non-null    float64\n",
      " 35  marking              350 non-null    float64\n",
      " 36  standing_tackle      350 non-null    float64\n",
      " 37  sliding_tackle       335 non-null    float64\n",
      " 38  gk_diving            350 non-null    float64\n",
      " 39  gk_handling          350 non-null    float64\n",
      " 40  gk_kicking           350 non-null    float64\n",
      " 41  gk_positioning       350 non-null    float64\n",
      " 42  gk_reflexes          350 non-null    float64\n",
      "dtypes: float64(35), int64(4), object(4)\n",
      "memory usage: 117.7+ KB\n"
     ]
    }
   ],
   "source": [
    "player.info()"
   ]
  },
  {
   "cell_type": "code",
   "execution_count": 11,
   "metadata": {
    "colab": {
     "base_uri": "https://localhost:8080/",
     "height": 446
    },
    "executionInfo": {
     "elapsed": 330,
     "status": "ok",
     "timestamp": 1719255923647,
     "user": {
      "displayName": "Roseli Aparecida Francelin Romero",
      "userId": "04295547795514221387"
     },
     "user_tz": 180
    },
    "id": "mDPT0NA8awiX",
    "outputId": "b65fa9bd-1a6c-4bc1-f422-9f3d33472656"
   },
   "outputs": [
    {
     "data": {
      "text/html": [
       "<div>\n",
       "<style scoped>\n",
       "    .dataframe tbody tr th:only-of-type {\n",
       "        vertical-align: middle;\n",
       "    }\n",
       "\n",
       "    .dataframe tbody tr th {\n",
       "        vertical-align: top;\n",
       "    }\n",
       "\n",
       "    .dataframe thead th {\n",
       "        text-align: right;\n",
       "    }\n",
       "</style>\n",
       "<table border=\"1\" class=\"dataframe\">\n",
       "  <thead>\n",
       "    <tr style=\"text-align: right;\">\n",
       "      <th></th>\n",
       "      <th>id_x</th>\n",
       "      <th>player_api_id</th>\n",
       "      <th>player_name</th>\n",
       "      <th>player_fifa_api_id_x</th>\n",
       "      <th>birthday</th>\n",
       "      <th>height</th>\n",
       "      <th>weight</th>\n",
       "      <th>age</th>\n",
       "      <th>Unnamed: 0</th>\n",
       "      <th>id_y</th>\n",
       "      <th>...</th>\n",
       "      <th>vision</th>\n",
       "      <th>penalties</th>\n",
       "      <th>marking</th>\n",
       "      <th>standing_tackle</th>\n",
       "      <th>sliding_tackle</th>\n",
       "      <th>gk_diving</th>\n",
       "      <th>gk_handling</th>\n",
       "      <th>gk_kicking</th>\n",
       "      <th>gk_positioning</th>\n",
       "      <th>gk_reflexes</th>\n",
       "    </tr>\n",
       "  </thead>\n",
       "  <tbody>\n",
       "    <tr>\n",
       "      <th>0</th>\n",
       "      <td>27</td>\n",
       "      <td>3264</td>\n",
       "      <td>Abdelmalek Cherrad</td>\n",
       "      <td>51868</td>\n",
       "      <td>1981-01-14 00:00:00</td>\n",
       "      <td>1.8542</td>\n",
       "      <td>74.842741</td>\n",
       "      <td>40</td>\n",
       "      <td>451</td>\n",
       "      <td>452</td>\n",
       "      <td>...</td>\n",
       "      <td>66.0</td>\n",
       "      <td>41.0</td>\n",
       "      <td>30.0</td>\n",
       "      <td>34.0</td>\n",
       "      <td>36.0</td>\n",
       "      <td>13.0</td>\n",
       "      <td>7.0</td>\n",
       "      <td>7.0</td>\n",
       "      <td>9.0</td>\n",
       "      <td>13.0</td>\n",
       "    </tr>\n",
       "    <tr>\n",
       "      <th>1</th>\n",
       "      <td>32</td>\n",
       "      <td>32637</td>\n",
       "      <td>Abdessalam Benjelloun</td>\n",
       "      <td>177295</td>\n",
       "      <td>1985-01-28 00:00:00</td>\n",
       "      <td>1.8796</td>\n",
       "      <td>81.193034</td>\n",
       "      <td>36</td>\n",
       "      <td>484</td>\n",
       "      <td>485</td>\n",
       "      <td>...</td>\n",
       "      <td>NaN</td>\n",
       "      <td>66.0</td>\n",
       "      <td>22.0</td>\n",
       "      <td>27.0</td>\n",
       "      <td>NaN</td>\n",
       "      <td>7.0</td>\n",
       "      <td>20.0</td>\n",
       "      <td>35.0</td>\n",
       "      <td>20.0</td>\n",
       "      <td>20.0</td>\n",
       "    </tr>\n",
       "    <tr>\n",
       "      <th>2</th>\n",
       "      <td>87</td>\n",
       "      <td>495841</td>\n",
       "      <td>Adalberto Penaranda</td>\n",
       "      <td>231638</td>\n",
       "      <td>1997-05-31 00:00:00</td>\n",
       "      <td>1.8288</td>\n",
       "      <td>78.017888</td>\n",
       "      <td>24</td>\n",
       "      <td>1329</td>\n",
       "      <td>1330</td>\n",
       "      <td>...</td>\n",
       "      <td>59.0</td>\n",
       "      <td>77.0</td>\n",
       "      <td>20.0</td>\n",
       "      <td>20.0</td>\n",
       "      <td>21.0</td>\n",
       "      <td>6.0</td>\n",
       "      <td>14.0</td>\n",
       "      <td>13.0</td>\n",
       "      <td>8.0</td>\n",
       "      <td>6.0</td>\n",
       "    </tr>\n",
       "    <tr>\n",
       "      <th>3</th>\n",
       "      <td>115</td>\n",
       "      <td>69518</td>\n",
       "      <td>Adam Marciniak</td>\n",
       "      <td>179055</td>\n",
       "      <td>1988-09-28 00:00:00</td>\n",
       "      <td>1.8288</td>\n",
       "      <td>82.100219</td>\n",
       "      <td>32</td>\n",
       "      <td>1887</td>\n",
       "      <td>1888</td>\n",
       "      <td>...</td>\n",
       "      <td>39.0</td>\n",
       "      <td>46.0</td>\n",
       "      <td>59.0</td>\n",
       "      <td>70.0</td>\n",
       "      <td>68.0</td>\n",
       "      <td>6.0</td>\n",
       "      <td>9.0</td>\n",
       "      <td>12.0</td>\n",
       "      <td>15.0</td>\n",
       "      <td>10.0</td>\n",
       "    </tr>\n",
       "    <tr>\n",
       "      <th>4</th>\n",
       "      <td>118</td>\n",
       "      <td>170593</td>\n",
       "      <td>Adam Matthews</td>\n",
       "      <td>193768</td>\n",
       "      <td>1992-01-13 00:00:00</td>\n",
       "      <td>1.7780</td>\n",
       "      <td>71.214002</td>\n",
       "      <td>29</td>\n",
       "      <td>1925</td>\n",
       "      <td>1926</td>\n",
       "      <td>...</td>\n",
       "      <td>69.0</td>\n",
       "      <td>50.0</td>\n",
       "      <td>73.0</td>\n",
       "      <td>75.0</td>\n",
       "      <td>74.0</td>\n",
       "      <td>6.0</td>\n",
       "      <td>15.0</td>\n",
       "      <td>12.0</td>\n",
       "      <td>6.0</td>\n",
       "      <td>14.0</td>\n",
       "    </tr>\n",
       "  </tbody>\n",
       "</table>\n",
       "<p>5 rows × 50 columns</p>\n",
       "</div>"
      ],
      "text/plain": [
       "   id_x  player_api_id            player_name  player_fifa_api_id_x  \\\n",
       "0    27           3264     Abdelmalek Cherrad                 51868   \n",
       "1    32          32637  Abdessalam Benjelloun                177295   \n",
       "2    87         495841    Adalberto Penaranda                231638   \n",
       "3   115          69518         Adam Marciniak                179055   \n",
       "4   118         170593          Adam Matthews                193768   \n",
       "\n",
       "              birthday  height     weight  age  Unnamed: 0  id_y  ...  vision  \\\n",
       "0  1981-01-14 00:00:00  1.8542  74.842741   40         451   452  ...    66.0   \n",
       "1  1985-01-28 00:00:00  1.8796  81.193034   36         484   485  ...     NaN   \n",
       "2  1997-05-31 00:00:00  1.8288  78.017888   24        1329  1330  ...    59.0   \n",
       "3  1988-09-28 00:00:00  1.8288  82.100219   32        1887  1888  ...    39.0   \n",
       "4  1992-01-13 00:00:00  1.7780  71.214002   29        1925  1926  ...    69.0   \n",
       "\n",
       "  penalties  marking  standing_tackle sliding_tackle gk_diving gk_handling  \\\n",
       "0      41.0     30.0             34.0           36.0      13.0         7.0   \n",
       "1      66.0     22.0             27.0            NaN       7.0        20.0   \n",
       "2      77.0     20.0             20.0           21.0       6.0        14.0   \n",
       "3      46.0     59.0             70.0           68.0       6.0         9.0   \n",
       "4      50.0     73.0             75.0           74.0       6.0        15.0   \n",
       "\n",
       "   gk_kicking  gk_positioning  gk_reflexes  \n",
       "0         7.0             9.0         13.0  \n",
       "1        35.0            20.0         20.0  \n",
       "2        13.0             8.0          6.0  \n",
       "3        12.0            15.0         10.0  \n",
       "4        12.0             6.0         14.0  \n",
       "\n",
       "[5 rows x 50 columns]"
      ]
     },
     "execution_count": 11,
     "metadata": {},
     "output_type": "execute_result"
    }
   ],
   "source": [
    "novo = jogo.merge(player, on='player_api_id', how = 'right')\n",
    "novo.head()"
   ]
  },
  {
   "cell_type": "code",
   "execution_count": 12,
   "metadata": {
    "colab": {
     "base_uri": "https://localhost:8080/"
    },
    "executionInfo": {
     "elapsed": 311,
     "status": "ok",
     "timestamp": 1719256027313,
     "user": {
      "displayName": "Roseli Aparecida Francelin Romero",
      "userId": "04295547795514221387"
     },
     "user_tz": 180
    },
    "id": "lHf78m-PY9xX",
    "outputId": "d97650cc-ef5f-4237-aa27-0db91608e227"
   },
   "outputs": [
    {
     "name": "stdout",
     "output_type": "stream",
     "text": [
      "<class 'pandas.core.frame.DataFrame'>\n",
      "RangeIndex: 350 entries, 0 to 349\n",
      "Data columns (total 50 columns):\n",
      " #   Column                Non-Null Count  Dtype  \n",
      "---  ------                --------------  -----  \n",
      " 0   id_x                  350 non-null    int64  \n",
      " 1   player_api_id         350 non-null    int64  \n",
      " 2   player_name           350 non-null    object \n",
      " 3   player_fifa_api_id_x  350 non-null    int64  \n",
      " 4   birthday              350 non-null    object \n",
      " 5   height                350 non-null    float64\n",
      " 6   weight                350 non-null    float64\n",
      " 7   age                   350 non-null    int64  \n",
      " 8   Unnamed: 0            350 non-null    int64  \n",
      " 9   id_y                  350 non-null    int64  \n",
      " 10  player_fifa_api_id_y  350 non-null    int64  \n",
      " 11  date                  350 non-null    object \n",
      " 12  overall_rating        350 non-null    float64\n",
      " 13  potential             350 non-null    float64\n",
      " 14  preferred_foot        350 non-null    object \n",
      " 15  attacking_work_rate   319 non-null    object \n",
      " 16  defensive_work_rate   350 non-null    object \n",
      " 17  crossing              350 non-null    float64\n",
      " 18  finishing             350 non-null    float64\n",
      " 19  heading_accuracy      350 non-null    float64\n",
      " 20  short_passing         350 non-null    float64\n",
      " 21  volleys               335 non-null    float64\n",
      " 22  dribbling             350 non-null    float64\n",
      " 23  curve                 335 non-null    float64\n",
      " 24  free_kick_accuracy    350 non-null    float64\n",
      " 25  long_passing          350 non-null    float64\n",
      " 26  ball_control          350 non-null    float64\n",
      " 27  acceleration          350 non-null    float64\n",
      " 28  sprint_speed          350 non-null    float64\n",
      " 29  agility               335 non-null    float64\n",
      " 30  reactions             350 non-null    float64\n",
      " 31  balance               335 non-null    float64\n",
      " 32  shot_power            350 non-null    float64\n",
      " 33  jumping               335 non-null    float64\n",
      " 34  stamina               350 non-null    float64\n",
      " 35  strength              350 non-null    float64\n",
      " 36  long_shots            350 non-null    float64\n",
      " 37  aggression            350 non-null    float64\n",
      " 38  interceptions         350 non-null    float64\n",
      " 39  positioning           350 non-null    float64\n",
      " 40  vision                335 non-null    float64\n",
      " 41  penalties             350 non-null    float64\n",
      " 42  marking               350 non-null    float64\n",
      " 43  standing_tackle       350 non-null    float64\n",
      " 44  sliding_tackle        335 non-null    float64\n",
      " 45  gk_diving             350 non-null    float64\n",
      " 46  gk_handling           350 non-null    float64\n",
      " 47  gk_kicking            350 non-null    float64\n",
      " 48  gk_positioning        350 non-null    float64\n",
      " 49  gk_reflexes           350 non-null    float64\n",
      "dtypes: float64(37), int64(7), object(6)\n",
      "memory usage: 136.8+ KB\n"
     ]
    }
   ],
   "source": [
    "novo.info()\n",
    "\n"
   ]
  },
  {
   "cell_type": "markdown",
   "metadata": {
    "id": "ViRatpK3itog"
   },
   "source": [
    "Vamos fazer a imputação: preenchimentos dos dados faltantes"
   ]
  },
  {
   "cell_type": "code",
   "execution_count": 13,
   "metadata": {
    "id": "Ct1GRgqZhPPQ"
   },
   "outputs": [],
   "source": [
    "df_numeric = novo.select_dtypes(include='number')\n",
    "for col in df_numeric.columns:\n",
    "    novo[col] = novo[col].fillna(novo[col].mean())\n",
    "\n",
    "df_categoric = novo.select_dtypes(include='object')\n",
    "for col in df_categoric.columns:\n",
    "    novo[col] = novo[col].fillna(novo[col].mode())"
   ]
  },
  {
   "cell_type": "code",
   "execution_count": 14,
   "metadata": {
    "colab": {
     "base_uri": "https://localhost:8080/",
     "height": 808
    },
    "executionInfo": {
     "elapsed": 352,
     "status": "ok",
     "timestamp": 1719256205719,
     "user": {
      "displayName": "Roseli Aparecida Francelin Romero",
      "userId": "04295547795514221387"
     },
     "user_tz": 180
    },
    "id": "UG1uuNPBhPRu",
    "outputId": "239a66cc-f484-4b8a-a62d-e46ca5a3a6b0"
   },
   "outputs": [
    {
     "data": {
      "text/html": [
       "<div>\n",
       "<style scoped>\n",
       "    .dataframe tbody tr th:only-of-type {\n",
       "        vertical-align: middle;\n",
       "    }\n",
       "\n",
       "    .dataframe tbody tr th {\n",
       "        vertical-align: top;\n",
       "    }\n",
       "\n",
       "    .dataframe thead th {\n",
       "        text-align: right;\n",
       "    }\n",
       "</style>\n",
       "<table border=\"1\" class=\"dataframe\">\n",
       "  <thead>\n",
       "    <tr style=\"text-align: right;\">\n",
       "      <th></th>\n",
       "      <th>id_x</th>\n",
       "      <th>player_api_id</th>\n",
       "      <th>player_name</th>\n",
       "      <th>player_fifa_api_id_x</th>\n",
       "      <th>birthday</th>\n",
       "      <th>height</th>\n",
       "      <th>weight</th>\n",
       "      <th>age</th>\n",
       "      <th>Unnamed: 0</th>\n",
       "      <th>id_y</th>\n",
       "      <th>...</th>\n",
       "      <th>vision</th>\n",
       "      <th>penalties</th>\n",
       "      <th>marking</th>\n",
       "      <th>standing_tackle</th>\n",
       "      <th>sliding_tackle</th>\n",
       "      <th>gk_diving</th>\n",
       "      <th>gk_handling</th>\n",
       "      <th>gk_kicking</th>\n",
       "      <th>gk_positioning</th>\n",
       "      <th>gk_reflexes</th>\n",
       "    </tr>\n",
       "  </thead>\n",
       "  <tbody>\n",
       "    <tr>\n",
       "      <th>0</th>\n",
       "      <td>27</td>\n",
       "      <td>3264</td>\n",
       "      <td>Abdelmalek Cherrad</td>\n",
       "      <td>51868</td>\n",
       "      <td>1981-01-14 00:00:00</td>\n",
       "      <td>1.8542</td>\n",
       "      <td>74.842741</td>\n",
       "      <td>40</td>\n",
       "      <td>451</td>\n",
       "      <td>452</td>\n",
       "      <td>...</td>\n",
       "      <td>66.000000</td>\n",
       "      <td>41.0</td>\n",
       "      <td>30.0</td>\n",
       "      <td>34.0</td>\n",
       "      <td>36.000000</td>\n",
       "      <td>13.0</td>\n",
       "      <td>7.0</td>\n",
       "      <td>7.0</td>\n",
       "      <td>9.0</td>\n",
       "      <td>13.0</td>\n",
       "    </tr>\n",
       "    <tr>\n",
       "      <th>1</th>\n",
       "      <td>32</td>\n",
       "      <td>32637</td>\n",
       "      <td>Abdessalam Benjelloun</td>\n",
       "      <td>177295</td>\n",
       "      <td>1985-01-28 00:00:00</td>\n",
       "      <td>1.8796</td>\n",
       "      <td>81.193034</td>\n",
       "      <td>36</td>\n",
       "      <td>484</td>\n",
       "      <td>485</td>\n",
       "      <td>...</td>\n",
       "      <td>55.307463</td>\n",
       "      <td>66.0</td>\n",
       "      <td>22.0</td>\n",
       "      <td>27.0</td>\n",
       "      <td>47.268657</td>\n",
       "      <td>7.0</td>\n",
       "      <td>20.0</td>\n",
       "      <td>35.0</td>\n",
       "      <td>20.0</td>\n",
       "      <td>20.0</td>\n",
       "    </tr>\n",
       "    <tr>\n",
       "      <th>2</th>\n",
       "      <td>87</td>\n",
       "      <td>495841</td>\n",
       "      <td>Adalberto Penaranda</td>\n",
       "      <td>231638</td>\n",
       "      <td>1997-05-31 00:00:00</td>\n",
       "      <td>1.8288</td>\n",
       "      <td>78.017888</td>\n",
       "      <td>24</td>\n",
       "      <td>1329</td>\n",
       "      <td>1330</td>\n",
       "      <td>...</td>\n",
       "      <td>59.000000</td>\n",
       "      <td>77.0</td>\n",
       "      <td>20.0</td>\n",
       "      <td>20.0</td>\n",
       "      <td>21.000000</td>\n",
       "      <td>6.0</td>\n",
       "      <td>14.0</td>\n",
       "      <td>13.0</td>\n",
       "      <td>8.0</td>\n",
       "      <td>6.0</td>\n",
       "    </tr>\n",
       "    <tr>\n",
       "      <th>3</th>\n",
       "      <td>115</td>\n",
       "      <td>69518</td>\n",
       "      <td>Adam Marciniak</td>\n",
       "      <td>179055</td>\n",
       "      <td>1988-09-28 00:00:00</td>\n",
       "      <td>1.8288</td>\n",
       "      <td>82.100219</td>\n",
       "      <td>32</td>\n",
       "      <td>1887</td>\n",
       "      <td>1888</td>\n",
       "      <td>...</td>\n",
       "      <td>39.000000</td>\n",
       "      <td>46.0</td>\n",
       "      <td>59.0</td>\n",
       "      <td>70.0</td>\n",
       "      <td>68.000000</td>\n",
       "      <td>6.0</td>\n",
       "      <td>9.0</td>\n",
       "      <td>12.0</td>\n",
       "      <td>15.0</td>\n",
       "      <td>10.0</td>\n",
       "    </tr>\n",
       "    <tr>\n",
       "      <th>4</th>\n",
       "      <td>118</td>\n",
       "      <td>170593</td>\n",
       "      <td>Adam Matthews</td>\n",
       "      <td>193768</td>\n",
       "      <td>1992-01-13 00:00:00</td>\n",
       "      <td>1.7780</td>\n",
       "      <td>71.214002</td>\n",
       "      <td>29</td>\n",
       "      <td>1925</td>\n",
       "      <td>1926</td>\n",
       "      <td>...</td>\n",
       "      <td>69.000000</td>\n",
       "      <td>50.0</td>\n",
       "      <td>73.0</td>\n",
       "      <td>75.0</td>\n",
       "      <td>74.000000</td>\n",
       "      <td>6.0</td>\n",
       "      <td>15.0</td>\n",
       "      <td>12.0</td>\n",
       "      <td>6.0</td>\n",
       "      <td>14.0</td>\n",
       "    </tr>\n",
       "    <tr>\n",
       "      <th>...</th>\n",
       "      <td>...</td>\n",
       "      <td>...</td>\n",
       "      <td>...</td>\n",
       "      <td>...</td>\n",
       "      <td>...</td>\n",
       "      <td>...</td>\n",
       "      <td>...</td>\n",
       "      <td>...</td>\n",
       "      <td>...</td>\n",
       "      <td>...</td>\n",
       "      <td>...</td>\n",
       "      <td>...</td>\n",
       "      <td>...</td>\n",
       "      <td>...</td>\n",
       "      <td>...</td>\n",
       "      <td>...</td>\n",
       "      <td>...</td>\n",
       "      <td>...</td>\n",
       "      <td>...</td>\n",
       "      <td>...</td>\n",
       "      <td>...</td>\n",
       "    </tr>\n",
       "    <tr>\n",
       "      <th>345</th>\n",
       "      <td>10983</td>\n",
       "      <td>25538</td>\n",
       "      <td>Youssouf Hadji</td>\n",
       "      <td>116368</td>\n",
       "      <td>1980-02-25 00:00:00</td>\n",
       "      <td>1.8288</td>\n",
       "      <td>78.017888</td>\n",
       "      <td>41</td>\n",
       "      <td>182574</td>\n",
       "      <td>182575</td>\n",
       "      <td>...</td>\n",
       "      <td>68.000000</td>\n",
       "      <td>74.0</td>\n",
       "      <td>24.0</td>\n",
       "      <td>39.0</td>\n",
       "      <td>26.000000</td>\n",
       "      <td>12.0</td>\n",
       "      <td>10.0</td>\n",
       "      <td>13.0</td>\n",
       "      <td>16.0</td>\n",
       "      <td>8.0</td>\n",
       "    </tr>\n",
       "    <tr>\n",
       "      <th>346</th>\n",
       "      <td>10998</td>\n",
       "      <td>302079</td>\n",
       "      <td>Yuya Kubo</td>\n",
       "      <td>217242</td>\n",
       "      <td>1993-12-24 00:00:00</td>\n",
       "      <td>1.7780</td>\n",
       "      <td>72.121187</td>\n",
       "      <td>27</td>\n",
       "      <td>182826</td>\n",
       "      <td>182827</td>\n",
       "      <td>...</td>\n",
       "      <td>70.000000</td>\n",
       "      <td>51.0</td>\n",
       "      <td>38.0</td>\n",
       "      <td>49.0</td>\n",
       "      <td>51.000000</td>\n",
       "      <td>9.0</td>\n",
       "      <td>11.0</td>\n",
       "      <td>14.0</td>\n",
       "      <td>11.0</td>\n",
       "      <td>12.0</td>\n",
       "    </tr>\n",
       "    <tr>\n",
       "      <th>347</th>\n",
       "      <td>11004</td>\n",
       "      <td>25199</td>\n",
       "      <td>Yves Makaba-Makalamby</td>\n",
       "      <td>152552</td>\n",
       "      <td>1986-01-31 00:00:00</td>\n",
       "      <td>1.9812</td>\n",
       "      <td>96.161582</td>\n",
       "      <td>35</td>\n",
       "      <td>182896</td>\n",
       "      <td>182897</td>\n",
       "      <td>...</td>\n",
       "      <td>35.000000</td>\n",
       "      <td>20.0</td>\n",
       "      <td>12.0</td>\n",
       "      <td>15.0</td>\n",
       "      <td>19.000000</td>\n",
       "      <td>67.0</td>\n",
       "      <td>58.0</td>\n",
       "      <td>61.0</td>\n",
       "      <td>60.0</td>\n",
       "      <td>68.0</td>\n",
       "    </tr>\n",
       "    <tr>\n",
       "      <th>348</th>\n",
       "      <td>11036</td>\n",
       "      <td>25906</td>\n",
       "      <td>Ze Manuel</td>\n",
       "      <td>139083</td>\n",
       "      <td>1975-02-22 00:00:00</td>\n",
       "      <td>1.6764</td>\n",
       "      <td>64.863709</td>\n",
       "      <td>46</td>\n",
       "      <td>183444</td>\n",
       "      <td>183445</td>\n",
       "      <td>...</td>\n",
       "      <td>55.307463</td>\n",
       "      <td>74.0</td>\n",
       "      <td>41.0</td>\n",
       "      <td>36.0</td>\n",
       "      <td>47.268657</td>\n",
       "      <td>8.0</td>\n",
       "      <td>23.0</td>\n",
       "      <td>68.0</td>\n",
       "      <td>23.0</td>\n",
       "      <td>23.0</td>\n",
       "    </tr>\n",
       "    <tr>\n",
       "      <th>349</th>\n",
       "      <td>11073</td>\n",
       "      <td>36491</td>\n",
       "      <td>Zsolt Low</td>\n",
       "      <td>111191</td>\n",
       "      <td>1979-04-29 00:00:00</td>\n",
       "      <td>1.8034</td>\n",
       "      <td>69.853225</td>\n",
       "      <td>42</td>\n",
       "      <td>183953</td>\n",
       "      <td>183954</td>\n",
       "      <td>...</td>\n",
       "      <td>66.000000</td>\n",
       "      <td>61.0</td>\n",
       "      <td>67.0</td>\n",
       "      <td>71.0</td>\n",
       "      <td>59.000000</td>\n",
       "      <td>15.0</td>\n",
       "      <td>13.0</td>\n",
       "      <td>5.0</td>\n",
       "      <td>6.0</td>\n",
       "      <td>6.0</td>\n",
       "    </tr>\n",
       "  </tbody>\n",
       "</table>\n",
       "<p>350 rows × 50 columns</p>\n",
       "</div>"
      ],
      "text/plain": [
       "      id_x  player_api_id            player_name  player_fifa_api_id_x  \\\n",
       "0       27           3264     Abdelmalek Cherrad                 51868   \n",
       "1       32          32637  Abdessalam Benjelloun                177295   \n",
       "2       87         495841    Adalberto Penaranda                231638   \n",
       "3      115          69518         Adam Marciniak                179055   \n",
       "4      118         170593          Adam Matthews                193768   \n",
       "..     ...            ...                    ...                   ...   \n",
       "345  10983          25538         Youssouf Hadji                116368   \n",
       "346  10998         302079              Yuya Kubo                217242   \n",
       "347  11004          25199  Yves Makaba-Makalamby                152552   \n",
       "348  11036          25906              Ze Manuel                139083   \n",
       "349  11073          36491              Zsolt Low                111191   \n",
       "\n",
       "                birthday  height     weight  age  Unnamed: 0    id_y  ...  \\\n",
       "0    1981-01-14 00:00:00  1.8542  74.842741   40         451     452  ...   \n",
       "1    1985-01-28 00:00:00  1.8796  81.193034   36         484     485  ...   \n",
       "2    1997-05-31 00:00:00  1.8288  78.017888   24        1329    1330  ...   \n",
       "3    1988-09-28 00:00:00  1.8288  82.100219   32        1887    1888  ...   \n",
       "4    1992-01-13 00:00:00  1.7780  71.214002   29        1925    1926  ...   \n",
       "..                   ...     ...        ...  ...         ...     ...  ...   \n",
       "345  1980-02-25 00:00:00  1.8288  78.017888   41      182574  182575  ...   \n",
       "346  1993-12-24 00:00:00  1.7780  72.121187   27      182826  182827  ...   \n",
       "347  1986-01-31 00:00:00  1.9812  96.161582   35      182896  182897  ...   \n",
       "348  1975-02-22 00:00:00  1.6764  64.863709   46      183444  183445  ...   \n",
       "349  1979-04-29 00:00:00  1.8034  69.853225   42      183953  183954  ...   \n",
       "\n",
       "        vision penalties  marking  standing_tackle sliding_tackle gk_diving  \\\n",
       "0    66.000000      41.0     30.0             34.0      36.000000      13.0   \n",
       "1    55.307463      66.0     22.0             27.0      47.268657       7.0   \n",
       "2    59.000000      77.0     20.0             20.0      21.000000       6.0   \n",
       "3    39.000000      46.0     59.0             70.0      68.000000       6.0   \n",
       "4    69.000000      50.0     73.0             75.0      74.000000       6.0   \n",
       "..         ...       ...      ...              ...            ...       ...   \n",
       "345  68.000000      74.0     24.0             39.0      26.000000      12.0   \n",
       "346  70.000000      51.0     38.0             49.0      51.000000       9.0   \n",
       "347  35.000000      20.0     12.0             15.0      19.000000      67.0   \n",
       "348  55.307463      74.0     41.0             36.0      47.268657       8.0   \n",
       "349  66.000000      61.0     67.0             71.0      59.000000      15.0   \n",
       "\n",
       "    gk_handling  gk_kicking  gk_positioning  gk_reflexes  \n",
       "0           7.0         7.0             9.0         13.0  \n",
       "1          20.0        35.0            20.0         20.0  \n",
       "2          14.0        13.0             8.0          6.0  \n",
       "3           9.0        12.0            15.0         10.0  \n",
       "4          15.0        12.0             6.0         14.0  \n",
       "..          ...         ...             ...          ...  \n",
       "345        10.0        13.0            16.0          8.0  \n",
       "346        11.0        14.0            11.0         12.0  \n",
       "347        58.0        61.0            60.0         68.0  \n",
       "348        23.0        68.0            23.0         23.0  \n",
       "349        13.0         5.0             6.0          6.0  \n",
       "\n",
       "[350 rows x 50 columns]"
      ]
     },
     "execution_count": 14,
     "metadata": {},
     "output_type": "execute_result"
    }
   ],
   "source": [
    "novo"
   ]
  }
 ],
 "metadata": {
  "colab": {
   "provenance": []
  },
  "kernelspec": {
   "display_name": "Python 3",
   "name": "python3"
  },
  "language_info": {
   "codemirror_mode": {
    "name": "ipython",
    "version": 3
   },
   "file_extension": ".py",
   "mimetype": "text/x-python",
   "name": "python",
   "nbconvert_exporter": "python",
   "pygments_lexer": "ipython3",
   "version": "3.9.6"
  }
 },
 "nbformat": 4,
 "nbformat_minor": 0
}

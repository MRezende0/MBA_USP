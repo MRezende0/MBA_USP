{
  "cells": [
    {
      "cell_type": "markdown",
      "id": "median-importance",
      "metadata": {
        "id": "median-importance"
      },
      "source": [
        "#**CURSO 2 - CIENCIA DE DADOS, APRENDIZADO DE MÁQUINA E DATA MINING**\n",
        "## **PROFa. Roseli A F Romero**\n",
        "\n",
        "# **Exploração de dados**\n",
        "\n",
        "Para os exercícios de 1) a 4), considere a base de dados de jogadores de futebol (`jogadores_exercicio1.csv`).\n",
        "\n",
        "\n",
        "### **Questão 01**.\n",
        "\n",
        "#Com base nos valores da média e desvio padrão dos atributos `weight` e `age` podemos dizer que:\n",
        "\n",
        "a) o desvio padrão do atributo `weight` corresponde a menos de 10% da sua média<br>\n",
        "b) o desvio padrão do atributo `age` corresponde a mais de 20% da sua média<br>\n",
        "c) não há praticamente nenhuma variação nos dados dos atributos `weight` e `age`<br>\n",
        "d) nenhuma das anteriores\n"
      ]
    },
    {
      "cell_type": "code",
      "execution_count": 1,
      "id": "92ca2c00",
      "metadata": {},
      "outputs": [],
      "source": [
        "import pandas as pd"
      ]
    },
    {
      "cell_type": "code",
      "execution_count": 3,
      "id": "755b2717",
      "metadata": {},
      "outputs": [
        {
          "name": "stdout",
          "output_type": "stream",
          "text": [
            "      id  player_api_id            player_name  player_fifa_api_id  \\\n",
            "0    530         167285       Alireza Haghighi              191589   \n",
            "1   8608         184536      Philippe Coutinho              189242   \n",
            "2   7752          38947  Mustapha Jarju Alasan              178374   \n",
            "3  11073          36491              Zsolt Low              111191   \n",
            "4   8427          27613               Paulinho              164256   \n",
            "\n",
            "              birthday  height     weight  age  \n",
            "0  1988-05-02 00:00:00  1.9304  79.832257   33  \n",
            "1  1992-06-12 00:00:00  1.7018  68.038855   29  \n",
            "2  1986-07-18 00:00:00  1.8288  81.193034   35  \n",
            "3  1979-04-29 00:00:00  1.8034  69.853225   42  \n",
            "4  1986-01-10 00:00:00  1.7526  72.121187   35  \n",
            "<class 'pandas.core.frame.DataFrame'>\n",
            "RangeIndex: 350 entries, 0 to 349\n",
            "Data columns (total 8 columns):\n",
            " #   Column              Non-Null Count  Dtype  \n",
            "---  ------              --------------  -----  \n",
            " 0   id                  350 non-null    int64  \n",
            " 1   player_api_id       350 non-null    int64  \n",
            " 2   player_name         350 non-null    object \n",
            " 3   player_fifa_api_id  350 non-null    int64  \n",
            " 4   birthday            350 non-null    object \n",
            " 5   height              350 non-null    float64\n",
            " 6   weight              350 non-null    float64\n",
            " 7   age                 350 non-null    int64  \n",
            "dtypes: float64(2), int64(4), object(2)\n",
            "memory usage: 22.0+ KB\n",
            "None\n"
          ]
        }
      ],
      "source": [
        "jogadores = pd.read_csv(\"/Users/matheus/Documents/Projetos/Pessoal/MBA_USP/02 - Ciências de Dados, Aprendizado de Máquina e Mineração de Dados/Aula 3 - Momentos/jogadores.csv\")\n",
        "print(jogadores.head())\n",
        "\n",
        "print(jogadores.info())"
      ]
    },
    {
      "cell_type": "code",
      "execution_count": 4,
      "id": "f6376ae2",
      "metadata": {},
      "outputs": [
        {
          "name": "stdout",
          "output_type": "stream",
          "text": [
            "                 id  player_api_id  player_fifa_api_id      height  \\\n",
            "count    350.000000     350.000000          350.000000  350.000000   \n",
            "mean    5588.354286  140858.094286       165443.377143    1.820164   \n",
            "std     3216.645160  144409.584152        56171.719230    0.060569   \n",
            "min       27.000000    3264.000000          249.000000    1.651000   \n",
            "25%     2845.500000   36177.500000       153738.000000    1.778000   \n",
            "50%     5606.500000   77008.500000       184071.500000    1.828800   \n",
            "75%     8216.500000  196720.750000       202294.250000    1.854200   \n",
            "max    11073.000000  689987.000000       232294.000000    1.981200   \n",
            "\n",
            "           weight         age  \n",
            "count  350.000000  350.000000  \n",
            "mean    76.454938   34.305714  \n",
            "std      6.425071    5.144415  \n",
            "min     58.967008   22.000000  \n",
            "25%     72.121187   31.000000  \n",
            "50%     76.203518   34.000000  \n",
            "75%     81.193034   38.000000  \n",
            "max     96.161582   49.000000  \n"
          ]
        }
      ],
      "source": [
        "print(jogadores.describe())"
      ]
    },
    {
      "cell_type": "markdown",
      "id": "recreational-journalism",
      "metadata": {
        "id": "recreational-journalism"
      },
      "source": [
        "---\n",
        "### **Questão 02**.\n",
        "\n",
        "Considerando o histograma do atributo `weight`, podemos afirmar que:\n",
        "\n",
        "a) a maioria dos dados estão entre 60 e 70<br>\n",
        "b) a maioria dos dados estão entre 65 e 85<br>\n",
        "c) os dados apresentam uma distribuição uniforme<br>\n",
        "d) nenhuma das anteriores"
      ]
    },
    {
      "cell_type": "code",
      "execution_count": 5,
      "id": "b46fda17",
      "metadata": {},
      "outputs": [
        {
          "data": {
            "text/plain": [
              "<Axes: >"
            ]
          },
          "execution_count": 5,
          "metadata": {},
          "output_type": "execute_result"
        },
        {
          "data": {
            "image/png": "[encoded data removed]",
            "text/plain": [
              "<Figure size 640x480 with 1 Axes>"
            ]
          },
          "metadata": {},
          "output_type": "display_data"
        }
      ],
      "source": [
        "jogadores[\"weight\"].hist()"
      ]
    },
    {
      "cell_type": "markdown",
      "id": "damaged-facility",
      "metadata": {
        "id": "damaged-facility"
      },
      "source": [
        "---\n",
        "### **Questão 03**.\n",
        "\n",
        "Considerando o boxplot do atributo `age`, podemos afirmar que:\n",
        "\n",
        "a) o valor que separa 75% dos dados (terceiro quartil) é maior que 40<br>\n",
        "b) o valor que separa 25% dos dados (primeiro quartil) é menor que 30<br>\n",
        "c) existe ao menos um outlier nesse conjunto<br>\n",
        "d) nenhuma das anteriores"
      ]
    },
    {
      "cell_type": "code",
      "execution_count": 7,
      "id": "733360a8",
      "metadata": {},
      "outputs": [
        {
          "data": {
            "text/plain": [
              "<Axes: >"
            ]
          },
          "execution_count": 7,
          "metadata": {},
          "output_type": "execute_result"
        },
        {
          "data": {
            "image/png": "[encoded data removed]",
            "text/plain": [
              "<Figure size 640x480 with 1 Axes>"
            ]
          },
          "metadata": {},
          "output_type": "display_data"
        }
      ],
      "source": [
        "jogadores.boxplot(column='age')"
      ]
    },
    {
      "cell_type": "markdown",
      "id": "cardiac-taxation",
      "metadata": {
        "id": "cardiac-taxation"
      },
      "source": [
        "---\n",
        "\n",
        "### **Questão 04**.\n",
        "\n",
        "Considere os dados abaixo armazenados na variável `data`. Ao normalizá-los entre 0 e 1, qual o valor da segunda linha?\n",
        "<!-- Suponha que cada coluna seja um atributo diferente e aplique a normalização sobre cada coluna separadamente. -->\n",
        "\n",
        "a) 2, 0.85, 0.33<br>\n",
        "b) 1.0, 0., 0.7<br>\n",
        "c) 15.5, 0.45, 0.8<br>\n",
        "d) nenhuma das anteriores"
      ]
    },
    {
      "cell_type": "code",
      "execution_count": 8,
      "id": "rtlVdsMqPP4b",
      "metadata": {
        "id": "rtlVdsMqPP4b"
      },
      "outputs": [],
      "source": [
        "import numpy as np\n",
        "\n",
        "data = np.array([\n",
        "        [15, 28, 30],\n",
        "        [410, -2.5, 65],\n",
        "        [5, 30, 80]\n",
        "    ])"
      ]
    },
    {
      "cell_type": "code",
      "execution_count": 11,
      "id": "be6ae992",
      "metadata": {},
      "outputs": [
        {
          "name": "stdout",
          "output_type": "stream",
          "text": [
            "Dados normalizados:\n",
            " [[0.02469136 0.93846154 0.        ]\n",
            " [1.         0.         0.7       ]\n",
            " [0.         1.         1.        ]]\n"
          ]
        }
      ],
      "source": [
        "import numpy as np\n",
        "from sklearn.preprocessing import MinMaxScaler\n",
        "\n",
        "# Criar o scaler\n",
        "scaler = MinMaxScaler(feature_range=(0, 1))\n",
        "\n",
        "# Ajustar e transformar\n",
        "normalized_data = scaler.fit_transform(data)\n",
        "\n",
        "print(\"Dados normalizados:\\n\", normalized_data)"
      ]
    },
    {
      "cell_type": "markdown",
      "id": "afraid-stewart",
      "metadata": {
        "id": "afraid-stewart"
      },
      "source": [
        "---\n",
        "\n",
        "### **Questão 05**.\n",
        "\n",
        "Para essa questão, utilizaremos o dataset `boston house prices`.\n",
        "\n",
        "Ler o conjunto de dados usando os seguintes comandos:\n",
        "\n",
        "data_url = \"http://lib.stat.cmu.edu/datasets/boston\" <br>\n",
        "raw_df = pd.read_csv(data_url, sep=\"\\s+\", skiprows=22, header=None) <br>\n",
        "X = np.hstack([raw_df.values[::2, :], raw_df.values[1::2, :2]]) <br>\n",
        "y = raw_df.values[1::2, 2] <br>\n",
        "\n",
        "1.   Dividir o dataset em 80% treino e 20% teste (com `random_state=0`)\n",
        "2.   Padronizar os dados utilizando `StandardScaler`\n",
        "3.   Aplicar a técnica `PCA` e reduzir a dimensionalidade dos atributos para 2\n",
        "\n",
        "\n",
        "O que se pode afirmar sobre as porcentagens da variância que cada componente principal armazena:\n",
        "\n",
        "a) A porcentagem da 1a. componente: PCA1 = 33.45% é maior que a porcentagem da 2a. componente principal: PCA2=21% <br>\n",
        "b) A porcentagem da 2a. componente: PCA2 = 31.11% é maior que a porcentagem da 1a. componente principal: PCA1 = 20.22%<br>\n",
        "c) A porcentagem da 1a. componente: PCA1 = 47% é maior que a porcentagem da 2a. componente principal: PCA2=11% <br>\n",
        "d) A porcentagem da 1a. componente: PCA1=20.22% nem sempre é maior que a da 2a. componente principal: PCA2= 31.11%.\n",
        "\n",
        "\n",
        "\n",
        "#### Observações\n",
        "- Lembre-se de utilizar apenas o conjunto de **treino** para fit do `PCA`, `StandardScaler` e considerar aproximação para 2 casas decimais.\n",
        "\n",
        "\n",
        "\n"
      ]
    },
    {
      "cell_type": "code",
      "execution_count": 14,
      "id": "7e1a57fb",
      "metadata": {},
      "outputs": [],
      "source": [
        "import pandas as pd\n",
        "import numpy as np\n",
        "from sklearn.model_selection import train_test_split\n",
        "from sklearn.preprocessing import StandardScaler\n",
        "from sklearn.decomposition import PCA"
      ]
    },
    {
      "cell_type": "code",
      "execution_count": 13,
      "id": "8037dc2f",
      "metadata": {},
      "outputs": [],
      "source": [
        "data_url = \"http://lib.stat.cmu.edu/datasets/boston\"\n",
        "raw_df = pd.read_csv(data_url, sep=\"\\s+\", skiprows=22, header=None)\n",
        "X = np.hstack([raw_df.values[::2, :], raw_df.values[1::2, :2]])\n",
        "y = raw_df.values[1::2, 2]"
      ]
    },
    {
      "cell_type": "code",
      "execution_count": 15,
      "id": "d6a563d4",
      "metadata": {},
      "outputs": [],
      "source": [
        "X_train, X_test, y_train, y_test = train_test_split(\n",
        "    X, y, test_size=0.2, random_state=0\n",
        ")"
      ]
    },
    {
      "cell_type": "code",
      "execution_count": 16,
      "id": "cf625845",
      "metadata": {},
      "outputs": [],
      "source": [
        "scaler = StandardScaler()\n",
        "X_train_scaled = scaler.fit_transform(X_train)\n",
        "X_test_scaled = scaler.transform(X_test)"
      ]
    },
    {
      "cell_type": "code",
      "execution_count": 17,
      "id": "d77bee02",
      "metadata": {},
      "outputs": [],
      "source": [
        "pca = PCA(n_components=2)\n",
        "X_train_pca = pca.fit_transform(X_train_scaled)\n",
        "X_test_pca = pca.transform(X_test_scaled)"
      ]
    },
    {
      "cell_type": "code",
      "execution_count": 19,
      "id": "81b5a0f3",
      "metadata": {},
      "outputs": [
        {
          "name": "stdout",
          "output_type": "stream",
          "text": [
            "Formato original: (506, 13)\n",
            "Formato após PCA (treino): (404, 2)\n",
            "Formato após PCA (teste): (102, 2)\n",
            "Variância explicada por cada componente: [0.47141676 0.10796713]\n",
            "[0.47141676 0.10796713]\n",
            "[47.14167594 10.79671347]\n"
          ]
        }
      ],
      "source": [
        "print(\"Formato original:\", X.shape)\n",
        "print(\"Formato após PCA (treino):\", X_train_pca.shape)\n",
        "print(\"Formato após PCA (teste):\", X_test_pca.shape)\n",
        "print(\"Variância explicada por cada componente:\", pca.explained_variance_ratio_)\n",
        "print(pca.explained_variance_ratio_)\n",
        "print(pca.explained_variance_ratio_ * 100)"
      ]
    }
  ],
  "metadata": {
    "colab": {
      "provenance": []
    },
    "kernelspec": {
      "display_name": "Python 3",
      "language": "python",
      "name": "python3"
    },
    "language_info": {
      "codemirror_mode": {
        "name": "ipython",
        "version": 3
      },
      "file_extension": ".py",
      "mimetype": "text/x-python",
      "name": "python",
      "nbconvert_exporter": "python",
      "pygments_lexer": "ipython3",
      "version": "3.9.6"
    }
  },
  "nbformat": 4,
  "nbformat_minor": 5
}

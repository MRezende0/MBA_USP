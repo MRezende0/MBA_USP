{
  "cells": [
    {
      "cell_type": "markdown",
      "metadata": {
        "id": "zlvnMZcyyNwi"
      },
      "source": [
        "## MBA em IA e BIGDATA\n",
        "## SCC-ICMC-USP\n",
        "## **CURSO 2 - CD_AM_DM**\n",
        "## **Exemplo - IMPUTAÇÃO**\n",
        "\n",
        "### Profa. Roseli A. F. Romero\n",
        "\n",
        "\n",
        "**OBJETIVO**:\n",
        "## Mostrar a função do sklearn que realiza o preenchimento de\n",
        "##dados faltantes\n",
        "\n",
        "\n",
        "# Objetivo\n",
        "\n",
        "A ideia deste notebook é demonstrar como podemos fazer transformações em dados heterogêneos com o sklearn usando SimpleImputer, Pipeline e ColumnTransformer. A ideia é facilitar a manipulação de tais tipos de dados, que são comuns no dia-a-dia.\n",
        "\n"
      ]
    },
    {
      "cell_type": "code",
      "execution_count": 6,
      "metadata": {
        "colab": {
          "base_uri": "https://localhost:8080/",
          "height": 237
        },
        "id": "gR8EeFcPxHw4",
        "outputId": "8fc3ffcb-d228-4941-f2d6-633335e257db"
      },
      "outputs": [
        {
          "data": {
            "text/html": [
              "<div>\n",
              "<style scoped>\n",
              "    .dataframe tbody tr th:only-of-type {\n",
              "        vertical-align: middle;\n",
              "    }\n",
              "\n",
              "    .dataframe tbody tr th {\n",
              "        vertical-align: top;\n",
              "    }\n",
              "\n",
              "    .dataframe thead th {\n",
              "        text-align: right;\n",
              "    }\n",
              "</style>\n",
              "<table border=\"1\" class=\"dataframe\">\n",
              "  <thead>\n",
              "    <tr style=\"text-align: right;\">\n",
              "      <th></th>\n",
              "      <th>idade</th>\n",
              "      <th>sexo</th>\n",
              "      <th>altura</th>\n",
              "      <th>classe</th>\n",
              "    </tr>\n",
              "  </thead>\n",
              "  <tbody>\n",
              "    <tr>\n",
              "      <th>0</th>\n",
              "      <td>15.0</td>\n",
              "      <td>homem</td>\n",
              "      <td>1.60</td>\n",
              "      <td>-1</td>\n",
              "    </tr>\n",
              "    <tr>\n",
              "      <th>1</th>\n",
              "      <td>23.0</td>\n",
              "      <td>mulher</td>\n",
              "      <td>1.70</td>\n",
              "      <td>1</td>\n",
              "    </tr>\n",
              "    <tr>\n",
              "      <th>2</th>\n",
              "      <td>19.0</td>\n",
              "      <td>homem</td>\n",
              "      <td>NaN</td>\n",
              "      <td>-1</td>\n",
              "    </tr>\n",
              "    <tr>\n",
              "      <th>3</th>\n",
              "      <td>30.0</td>\n",
              "      <td>homem</td>\n",
              "      <td>1.80</td>\n",
              "      <td>1</td>\n",
              "    </tr>\n",
              "    <tr>\n",
              "      <th>4</th>\n",
              "      <td>44.0</td>\n",
              "      <td>NaN</td>\n",
              "      <td>1.75</td>\n",
              "      <td>1</td>\n",
              "    </tr>\n",
              "    <tr>\n",
              "      <th>5</th>\n",
              "      <td>NaN</td>\n",
              "      <td>homem</td>\n",
              "      <td>1.65</td>\n",
              "      <td>-1</td>\n",
              "    </tr>\n",
              "  </tbody>\n",
              "</table>\n",
              "</div>"
            ],
            "text/plain": [
              "   idade    sexo  altura  classe\n",
              "0   15.0   homem    1.60      -1\n",
              "1   23.0  mulher    1.70       1\n",
              "2   19.0   homem     NaN      -1\n",
              "3   30.0   homem    1.80       1\n",
              "4   44.0     NaN    1.75       1\n",
              "5    NaN   homem    1.65      -1"
            ]
          },
          "execution_count": 6,
          "metadata": {},
          "output_type": "execute_result"
        }
      ],
      "source": [
        "import pandas as pd\n",
        "import numpy as np\n",
        "# Dados de exemplo\n",
        "dados = pd.DataFrame({\n",
        "    'idade': [15, 23, 19, 30, 44, np.nan],\n",
        "    'sexo': ['homem', 'mulher', 'homem', 'homem', np.nan,'homem'],\n",
        "    'altura': [1.6, 1.7, np.nan, 1.8, 1.75, 1.65],\n",
        "    'classe':  [-1, 1, -1, 1, 1, -1]\n",
        "    })\n",
        "dados"
      ]
    },
    {
      "cell_type": "code",
      "execution_count": 7,
      "metadata": {
        "colab": {
          "base_uri": "https://localhost:8080/"
        },
        "id": "nHe5-CStziqB",
        "outputId": "f566d3b6-6b1d-42de-9a45-62f306924cc1"
      },
      "outputs": [
        {
          "name": "stdout",
          "output_type": "stream",
          "text": [
            "<class 'pandas.core.frame.DataFrame'>\n",
            "RangeIndex: 6 entries, 0 to 5\n",
            "Data columns (total 4 columns):\n",
            " #   Column  Non-Null Count  Dtype  \n",
            "---  ------  --------------  -----  \n",
            " 0   idade   5 non-null      float64\n",
            " 1   sexo    5 non-null      object \n",
            " 2   altura  5 non-null      float64\n",
            " 3   classe  6 non-null      int64  \n",
            "dtypes: float64(2), int64(1), object(1)\n",
            "memory usage: 320.0+ bytes\n"
          ]
        }
      ],
      "source": [
        "dados.info()"
      ]
    },
    {
      "cell_type": "markdown",
      "metadata": {
        "id": "w2wMubZjgew2"
      },
      "source": [
        "A partir do comando `info()` nota-se que existem 2 variáveis de entrada numéricas (idade e altura) e 1 variável de entrada categórica (sexo). A variável classe é a variável alvo."
      ]
    },
    {
      "cell_type": "markdown",
      "metadata": {
        "id": "HEsjWPWVzxq8"
      },
      "source": [
        "### Transformando os dados\n",
        "\n",
        "Considere que queremos realizar as seguintes operações:\n",
        "\n",
        "\n",
        "*   **Nos dados numéricos:** substituir os dados faltantes das variáveis pela média dos valores presentes. Depois padronizar o intervalo dessas variáveis\n",
        "*   **Nos dados categóricos:** Substituir os valores faltantes pelo valor mais frequente. Depois transformar essas categorias em um atributo numérico para usar no nosso modelo de rede neural\n",
        "\n",
        "Para fazer essas operações em colunas específicas, podemos utilizar as ferramentas `sklearn.pipeline.Pipeline` e `sklearn.compose.ColumnTransformer`.\n",
        "\n",
        "A ferramenta `sklearn.pipeline.Pipeline` cria uma sequencia de transformações nos dados, enquanto que a `sklearn.compose.ColumnTransformer` realiza uma transformação em dados de uma coluna.\n",
        "\n",
        "Para substituir valores faltantes utilizaremos a classe `sklearn.impute.SimpleImputer`, para padronizar os dados `sklearn.preprocessingStandardScaler` e para converter atributos categoricos em valores numéricos `sklearn.preprocessing.OneHotEncoder`.\n",
        "\n",
        "Aplicando nos dados do exemplo acima:\n",
        "\n"
      ]
    },
    {
      "cell_type": "code",
      "execution_count": 8,
      "metadata": {
        "id": "ejAkeP6r2LUi"
      },
      "outputs": [],
      "source": [
        "from sklearn.pipeline import Pipeline\n",
        "from sklearn.compose import ColumnTransformer\n",
        "\n",
        "#from sklearn.preprocessing import StandardScaler\n",
        "#from sklearn.preprocessing import OneHotEncoder\n",
        "from sklearn.impute import SimpleImputer\n",
        "\n",
        "# Criamos um vetor com o nome das classes desejadas\n",
        "features_numericos = ['idade', 'altura']\n",
        "features_categoricos = ['sexo']\n",
        "\n",
        "# Criando os pipelines\n",
        "pipeline_numerico = Pipeline(steps=[\n",
        "    ('imputer', SimpleImputer(strategy='mean'))])\n",
        "#     ('scaler', StandardScaler())])\n",
        "\n",
        "pipeline_categorico = Pipeline(steps=[\n",
        "    ('imputer', SimpleImputer(strategy='most_frequent'))])\n",
        "#    ('onehot', OneHotEncoder())])\n",
        "\n",
        "# Criando a transformação do conjunto de dados:\n",
        "transformacao = ColumnTransformer(\n",
        "    transformers=[\n",
        "        ('transformacao numerica', pipeline_numerico, features_numericos),\n",
        "        ('transformacao categorica', pipeline_categorico, features_categoricos),\n",
        "    ])\n",
        "\n",
        "# Aplicando a transformação no dataset:\n",
        "dados_transformados = transformacao.fit_transform(dados)\n",
        "#dados_transformados.round(2)"
      ]
    },
    {
      "cell_type": "code",
      "execution_count": 9,
      "metadata": {
        "colab": {
          "base_uri": "https://localhost:8080/"
        },
        "id": "2U6pFL_QYpHx",
        "outputId": "42c31d25-e2ae-48b0-af73-e03bb6d265eb"
      },
      "outputs": [
        {
          "data": {
            "text/plain": [
              "array([[15.0, 1.6, 'homem'],\n",
              "       [23.0, 1.7, 'mulher'],\n",
              "       [19.0, 1.7, 'homem'],\n",
              "       [30.0, 1.8, 'homem'],\n",
              "       [44.0, 1.75, 'homem'],\n",
              "       [26.2, 1.65, 'homem']], dtype=object)"
            ]
          },
          "execution_count": 9,
          "metadata": {},
          "output_type": "execute_result"
        }
      ],
      "source": [
        "dados_transformados"
      ]
    },
    {
      "cell_type": "markdown",
      "metadata": {
        "id": "6rjhWB9V5TTm"
      },
      "source": [
        "Note que a ordem das variáveis (features) mudou em relação ao nosso conjunto inicial. A ordem do conjunto transformado é dada pela ordem de processamento das features. No nosso caso, a ordem das features ficou:\n",
        "\n",
        "(features_numericos, features_categoricos) $\\rightarrow$ (idade, altura, sexo)\n",
        "\n",
        " Note também que a transformação `OneHotEncoder` vai transformar os features categóricos em um vetor unitário, que possui $n$ dimensões, onde $n$ é o número de valores diferentes da categoria (no nosso exemplo, 2 - homem e mulher)\n",
        "\n",
        " Observe que o conjunto não possui mais a variável \"classe\". Isso porque não foi efetuada nenhuma transformação nessa variável.\n",
        "\n",
        " Normalmente para problemas de Machine Learning é comum separar as variáveis de entrada (\"sexo\", \"idade\" e \"altura\") da variável alvo (\"classe\"). Mas se for necessário, podemos facilmente concatenar a variável classe e criar uma estrutura `DataFrame`:"
      ]
    },
    {
      "cell_type": "code",
      "execution_count": 10,
      "metadata": {
        "colab": {
          "base_uri": "https://localhost:8080/",
          "height": 237
        },
        "id": "CKowk_z08TLy",
        "outputId": "69b6050e-5f0a-42c2-b45b-e3acc9db30fd"
      },
      "outputs": [
        {
          "data": {
            "text/html": [
              "<div>\n",
              "<style scoped>\n",
              "    .dataframe tbody tr th:only-of-type {\n",
              "        vertical-align: middle;\n",
              "    }\n",
              "\n",
              "    .dataframe tbody tr th {\n",
              "        vertical-align: top;\n",
              "    }\n",
              "\n",
              "    .dataframe thead th {\n",
              "        text-align: right;\n",
              "    }\n",
              "</style>\n",
              "<table border=\"1\" class=\"dataframe\">\n",
              "  <thead>\n",
              "    <tr style=\"text-align: right;\">\n",
              "      <th></th>\n",
              "      <th>0</th>\n",
              "      <th>1</th>\n",
              "      <th>2</th>\n",
              "      <th>3</th>\n",
              "    </tr>\n",
              "  </thead>\n",
              "  <tbody>\n",
              "    <tr>\n",
              "      <th>0</th>\n",
              "      <td>15.0</td>\n",
              "      <td>1.6</td>\n",
              "      <td>homem</td>\n",
              "      <td>-1</td>\n",
              "    </tr>\n",
              "    <tr>\n",
              "      <th>1</th>\n",
              "      <td>23.0</td>\n",
              "      <td>1.7</td>\n",
              "      <td>mulher</td>\n",
              "      <td>1</td>\n",
              "    </tr>\n",
              "    <tr>\n",
              "      <th>2</th>\n",
              "      <td>19.0</td>\n",
              "      <td>1.7</td>\n",
              "      <td>homem</td>\n",
              "      <td>-1</td>\n",
              "    </tr>\n",
              "    <tr>\n",
              "      <th>3</th>\n",
              "      <td>30.0</td>\n",
              "      <td>1.8</td>\n",
              "      <td>homem</td>\n",
              "      <td>1</td>\n",
              "    </tr>\n",
              "    <tr>\n",
              "      <th>4</th>\n",
              "      <td>44.0</td>\n",
              "      <td>1.75</td>\n",
              "      <td>homem</td>\n",
              "      <td>1</td>\n",
              "    </tr>\n",
              "    <tr>\n",
              "      <th>5</th>\n",
              "      <td>26.2</td>\n",
              "      <td>1.65</td>\n",
              "      <td>homem</td>\n",
              "      <td>-1</td>\n",
              "    </tr>\n",
              "  </tbody>\n",
              "</table>\n",
              "</div>"
            ],
            "text/plain": [
              "      0     1       2   3\n",
              "0  15.0   1.6   homem  -1\n",
              "1  23.0   1.7  mulher   1\n",
              "2  19.0   1.7   homem  -1\n",
              "3  30.0   1.8   homem   1\n",
              "4  44.0  1.75   homem   1\n",
              "5  26.2  1.65   homem  -1"
            ]
          },
          "execution_count": 10,
          "metadata": {},
          "output_type": "execute_result"
        }
      ],
      "source": [
        "dados_transformados_com_classe = np.c_[dados_transformados, dados['classe']]\n",
        "dataframe_processado = pd.DataFrame(dados_transformados_com_classe)\n",
        "dataframe_processado"
      ]
    }
  ],
  "metadata": {
    "colab": {
      "provenance": []
    },
    "kernelspec": {
      "display_name": "Python 3",
      "name": "python3"
    },
    "language_info": {
      "codemirror_mode": {
        "name": "ipython",
        "version": 3
      },
      "file_extension": ".py",
      "mimetype": "text/x-python",
      "name": "python",
      "nbconvert_exporter": "python",
      "pygments_lexer": "ipython3",
      "version": "3.9.6"
    }
  },
  "nbformat": 4,
  "nbformat_minor": 0
}

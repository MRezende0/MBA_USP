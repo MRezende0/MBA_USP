{
  "cells": [
    {
      "cell_type": "markdown",
      "metadata": {
        "id": "6N888NiuBvFG"
      },
      "source": [
        "# <font color=\"red\"> MBA em IA e Big Data</font>\n",
        "## <span style=\"color:red\">Linguagens e Ferramentas para Inteligência Artificial e Big Data (Python e SQL)</span>\n",
        "\n",
        "### <span style=\"color:darkred\">Python: referências, operações e funções</span>\n",
        "\n",
        "## Avaliação\n",
        "\n",
        "*Leandro Franco de Souza*<br>\n",
        "*ICMC/USP São Carlos*\n",
        "\n",
        "*(com material do Prof. Moacir Antonelli Ponti)*"
      ]
    },
    {
      "cell_type": "markdown",
      "metadata": {
        "id": "Ki9D7-4cBvFK"
      },
      "source": [
        "<font color='red'> As respostas devem ser fornecidas no Moodle. O notebook é apenas para a implementação dos códigos que fornecerão as respostas</font>"
      ]
    },
    {
      "cell_type": "markdown",
      "metadata": {
        "id": "y-nKXZ9bBvFL"
      },
      "source": [
        "## Questão 1\n",
        "\n",
        "Considere que temos tuplas contendo registros de passageiros em um vôo. As tuplas são organizadas de forma que os elementos estão sempre nessa ordem:\n",
        "* Abreviação do país com 3 letras (ex. 'BRA', 'ARG')\n",
        "* Passaporte\n",
        "* Mês de vencimento do passaporte\n",
        "* Ano de vencimento do passaporte\n",
        "* Valor pago pelo trecho\n",
        "\n",
        "Seja uma lista contendo tuplas do tipo acima.  Calcule o valor médio pago pelo trecho entre todos os passageiros\n",
        "\n",
        "a) 996.4<br>\n",
        "b) 999.99<br>\n",
        "c) 1009.1<br>\n",
        "d) 990.50"
      ]
    },
    {
      "cell_type": "code",
      "execution_count": 1,
      "metadata": {
        "colab": {
          "base_uri": "https://localhost:8080/"
        },
        "id": "nUMNgfvfBvFM",
        "outputId": "266f77be-b6c1-42ee-de8f-d5e1492a8b8b"
      },
      "outputs": [
        {
          "data": {
            "text/plain": [
              "[('BRA', 'DFD-2992', 12, 2031, 999.0),\n",
              " ('ARG', '1112992', 1, 2032, 899.0),\n",
              " ('EUA', 'AB3DA000', 11, 2031, 1023.0),\n",
              " ('BRA', 'GCG-1112', 9, 2031, 900.0),\n",
              " ('ESP', 'DFD-2992', 11, 2031, 899.0),\n",
              " ('URU', 'AEC423', 3, 2033, 699.0),\n",
              " ('PAR', 'DFD-2992', 2, 2035, 1099.0),\n",
              " ('ARL', 'X123111Z', 10, 2031, 954.0),\n",
              " ('URU', 'BAC203', 2, 2035, 1011.0),\n",
              " ('ARG', '3112323', 10, 2031, 1250.0),\n",
              " ('URU', 'ABC123', 12, 2034, 1001.5),\n",
              " ('BRA', 'AAB-2992', 8, 2031, 1050.9),\n",
              " ('BRA', 'EFE-2992', 8, 2032, 1170.1),\n",
              " ('VEN', 'GAC292', 4, 2033, 1000.6),\n",
              " ('PER', '2992DDE', 9, 2031, 989.9)]"
            ]
          },
          "execution_count": 1,
          "metadata": {},
          "output_type": "execute_result"
        }
      ],
      "source": [
        "lv = [('BRA', 'DFD-2992', 12, 2031, 999.0),\n",
        "      ('ARG', '1112992', 1, 2032, 899.0),\n",
        "      ('EUA', 'AB3DA000', 11, 2031, 1023.0),\n",
        "      ('BRA', 'GCG-1112', 9, 2031, 900.0),\n",
        "      ('ESP', 'DFD-2992', 11, 2031, 899.0),\n",
        "      ('URU', 'AEC423', 3, 2033, 699.0),\n",
        "      ('PAR', 'DFD-2992', 2, 2035, 1099.0),\n",
        "      ('ARL', 'X123111Z', 10, 2031, 954.0),\n",
        "      ('URU', 'BAC203', 2, 2035, 1011.0),\n",
        "      ('ARG', '3112323', 10, 2031, 1250.0),\n",
        "      ('URU', 'ABC123', 12, 2034, 1001.5),\n",
        "      ('BRA', 'AAB-2992', 8, 2031, 1050.9),\n",
        "      ('BRA', 'EFE-2992', 8, 2032, 1170.1),\n",
        "      ('VEN', 'GAC292', 4, 2033, 1000.6),\n",
        "      ('PER', '2992DDE', 9, 2031, 989.9)]\n",
        "\n",
        "lv"
      ]
    },
    {
      "cell_type": "code",
      "execution_count": 10,
      "metadata": {},
      "outputs": [
        {
          "name": "stdout",
          "output_type": "stream",
          "text": [
            "VM: 996.4\n"
          ]
        }
      ],
      "source": [
        "from statistics import mean\n",
        "valores = [item[4] for item in lv]\n",
        "VM = mean(valores)\n",
        "print(f\"VM: {VM}\")"
      ]
    },
    {
      "cell_type": "markdown",
      "metadata": {
        "id": "7b3nZf5nBvFR"
      },
      "source": [
        "## Questão 2\n",
        "\n",
        "Considere ainda a mesma lista de tuplas anterior. Crie uma nova lista contendo strings formada pelo mes e ano de vencimento no formato: `mm/aaaa`. Exemplo: se temos mes = 9 e ano = 2022 a string resultante será `'9/2022'`\n",
        "\n",
        "A seguir, conte quantas dessas strings possuem tamanho maior do que 6.\n",
        "\n",
        "a) 10<br>\n",
        "b) 4<br>\n",
        "c) 6<br>\n",
        "d) 3"
      ]
    },
    {
      "cell_type": "code",
      "execution_count": 4,
      "metadata": {
        "id": "hz44orUVBvFS"
      },
      "outputs": [],
      "source": [
        "dados = [('BRA', 'DFD-2992', 12, 2031, 999.0),\n",
        "      ('ARG', '1112992', 1, 2032, 899.0),\n",
        "      ('EUA', 'AB3DA000', 11, 2031, 1023.0),\n",
        "      ('BRA', 'GCG-1112', 9, 2031, 900.0),\n",
        "      ('ESP', 'DFD-2992', 11, 2031, 899.0),\n",
        "      ('URU', 'AEC423', 3, 2033, 699.0),\n",
        "      ('PAR', 'DFD-2992', 2, 2035, 1099.0),\n",
        "      ('ARL', 'X123111Z', 10, 2031, 954.0),\n",
        "      ('URU', 'BAC203', 2, 2035, 1011.0),\n",
        "      ('ARG', '3112323', 10, 2031, 1250.0),\n",
        "      ('URU', 'ABC123', 12, 2034, 1001.5),\n",
        "      ('BRA', 'AAB-2992', 8, 2031, 1050.9),\n",
        "      ('BRA', 'EFE-2992', 8, 2032, 1170.1),\n",
        "      ('VEN', 'GAC292', 4, 2033, 1000.6),\n",
        "      ('PER', '2992DDE', 9, 2031, 989.9)]"
      ]
    },
    {
      "cell_type": "code",
      "execution_count": 5,
      "metadata": {},
      "outputs": [
        {
          "name": "stdout",
          "output_type": "stream",
          "text": [
            "Datas com comprimento > 6: ['12/2031', '11/2031', '11/2031', '10/2031', '10/2031', '12/2034']\n",
            "Quantidade: 6\n"
          ]
        }
      ],
      "source": [
        "datas = [f\"{mes}/{ano}\" for _, _, mes, ano, _ in dados]\n",
        "datas_maior_que_6 = [data for data in datas if len(data) > 6]\n",
        "\n",
        "print(f\"Datas com comprimento > 6: {datas_maior_que_6}\")\n",
        "print(f\"Quantidade: {len(datas_maior_que_6)}\")"
      ]
    },
    {
      "cell_type": "markdown",
      "metadata": {
        "id": "e1sln68OBvFU"
      },
      "source": [
        "## Questão 3\n",
        "\n",
        "Carregue o arquivo <font style=\"font-family: monaco\">WorldCupMatches.csv</font>, disponível para download. Baixe o arquivo no seu diretório de trabalho para responder as questões.\n",
        "\n",
        "O arquivo <font style=\"font-family: monaco\">WorldCupMatches.csv</font> contém informações sobre todas as partidas de copas do mundo entre 1930 e 2014, ou seja, cada linha no arquivo corresponde a uma partida de futebol em copa do mundo.\n",
        "\n",
        "Algumas das colunas que serão importantes para resolver as questões são:\n",
        "- __Year__: indica o ano da copa\n",
        "- __Stage__: em qual fase da copa a partida aconteceu\n",
        "- __HomeTeamName__: nome do time anfitrião da partida\n",
        "- __AwayTeamName__: nome do time adversário na partida\n",
        "- __Attendance__: número de espectadores da partida\n",
        "- __Stadium__: estádio onde a partida foi realizada\n",
        "\n",
        "Crie uma função que tenha como entrada o país e o dataframe partidas (ver abaixo). Nesta função, calcule quantos jogos o time 'Scotland' realizou  e quais foram os três primeiros adversários dele?\n",
        "\n",
        "a) 22 jogos. Austria, Uruguay e Paraguay<br>\n",
        "b) 23 jogos. Uruguay, Yugoslavia e Paraguay<br>\n",
        "c) 23 jogos. Austria, Uruguay e Yugoslavia<br>\n",
        "d) 24 jogos. Austria, Uruguay e Yugoslavia"
      ]
    },
    {
      "cell_type": "code",
      "execution_count": 11,
      "metadata": {
        "colab": {
          "base_uri": "https://localhost:8080/",
          "height": 346
        },
        "id": "ueCJX6rDBvFU",
        "outputId": "757682fe-2c2b-427f-b1a5-07091b3b8d23"
      },
      "outputs": [
        {
          "name": "stdout",
          "output_type": "stream",
          "text": [
            "(836, 20)\n"
          ]
        }
      ],
      "source": [
        "import pandas as pd\n",
        "partidas = pd.read_csv('Arquivos/WorldCupMatches.csv')\n",
        "print(partidas.shape)"
      ]
    },
    {
      "cell_type": "code",
      "execution_count": 12,
      "metadata": {},
      "outputs": [],
      "source": [
        "def jogos_da_escocia(pais, partidas):\n",
        "    # Filtra jogos onde 'Scotland' participou\n",
        "    jogos = partidas[(partidas['HomeTeamName'] == pais) | (partidas['AwayTeamName'] == pais)]\n",
        "    \n",
        "    # Conta a quantidade de jogos\n",
        "    total_jogos = len(jogos)\n",
        "    \n",
        "    # Encontra os adversários\n",
        "    adversarios = []\n",
        "    for _, row in jogos.iterrows():\n",
        "        if row['HomeTeamName'] == pais:\n",
        "            adversarios.append(row['AwayTeamName'])\n",
        "        else:\n",
        "            adversarios.append(row['HomeTeamName'])\n",
        "    \n",
        "    # Pega os três primeiros adversários\n",
        "    primeiros_tres = adversarios[:3]\n",
        "    \n",
        "    return total_jogos, primeiros_tres"
      ]
    },
    {
      "cell_type": "code",
      "execution_count": 14,
      "metadata": {},
      "outputs": [
        {
          "name": "stdout",
          "output_type": "stream",
          "text": [
            "Total de jogos: 23\n",
            "3 primeiros adversários: ['Austria', 'Uruguay', 'Yugoslavia']\n"
          ]
        }
      ],
      "source": [
        "# Chama a função\n",
        "total, adversarios = jogos_da_escocia('Scotland', partidas)\n",
        "\n",
        "print(f\"Total de jogos: {total}\")\n",
        "print(f\"3 primeiros adversários: {adversarios}\")"
      ]
    },
    {
      "cell_type": "markdown",
      "metadata": {
        "id": "dxLFm9iItiFv"
      },
      "source": [
        "## Questão 4\n",
        "\n",
        "Crie uma função lambda que processe uma tupla contendo um produto definido na forma:\n",
        "(nome_produto (str), preco (float), ano validade (int), mes validade (int))\n",
        "E que retorne uma nova tupla contendo o nome do produto concatenado com ` em promoção`, e o preço com desconto de 50%.\n",
        "\n",
        "Exemplo: `('macarrao', 10.0, 2025, 7)`\n",
        "\n",
        "Saída da função: `('macarrao em promocao', 5.0, 2025, 7)`\n",
        "\n",
        "Crie uma função que receba uma lista contendo as tuplas de produtos, um ano e mês de vencimento, e que utilize essa função lambda numa comprehension para retornar uma nova lista contendo apenas produtos próximos ao vencimento, para os quais será feita uma promoção com desconto de 50%. Serão considerados próximos ao vencimento produtos até o ano e mês passados como argumento da função.\n",
        "\n",
        "Exemplo de uso da funcao: gera_lista_promocao(prods, 2025, 8).\n",
        "\n",
        "Considerando que produtos com vencimento até Agosto de 2025 estão próximos ao vencimento, use sua função para retornar uma lista de produtos em promoção. Qual é o preço mínimo e máximo dos produtos dessa lista?\n",
        "\n",
        "a) Menor: 1,00; Maior: 4,495<br>\n",
        "b) Menor: 1,25; Maior: 5,255<br>\n",
        "c) Menor: 1,25; Maior: 4,495<br>\n",
        "d) Menor: 1,00; Maior: 5,255"
      ]
    },
    {
      "cell_type": "code",
      "execution_count": 15,
      "metadata": {
        "id": "0vMS6cR6tiFw"
      },
      "outputs": [],
      "source": [
        "prods = [('macarrao', 5.99, 2025, 7),\n",
        "      ('palmito', 12.50, 2027, 8),\n",
        "      ('arroz', 21.50, 2025, 9),      \n",
        "      ('feijao', 8.50, 2027, 10),\n",
        "      ('grao de bico', 8.50, 2027, 8),\n",
        "      ('feijao preto', 8.90, 2025, 7),\n",
        "      ('molho', 2.50, 2025, 6),\n",
        "      ('cafe', 7.30, 2025, 6),\n",
        "      ('manteiga', 8.99, 2025, 7),\n",
        "      ('chocolate', 2.00, 2025, 9),\n",
        "      ('azeite', 10.50, 2027, 1),\n",
        "      ('farinha', 3.50, 2025, 7),\n",
        "      ('fuba', 4.50, 2027, 8)]"
      ]
    },
    {
      "cell_type": "code",
      "execution_count": 16,
      "metadata": {},
      "outputs": [
        {
          "name": "stdout",
          "output_type": "stream",
          "text": [
            "Produtos em promoção: [('macarrao em promocao', 2.995, 2025, 7), ('feijao preto em promocao', 4.45, 2025, 7), ('molho em promocao', 1.25, 2025, 6), ('cafe em promocao', 3.65, 2025, 6), ('manteiga em promocao', 4.495, 2025, 7), ('farinha em promocao', 1.75, 2025, 7)]\n",
            "Preço mínimo: 1.25\n",
            "Preço máximo: 4.495\n"
          ]
        }
      ],
      "source": [
        "promo_lambda = lambda prod: (prod[0] + ' em promocao', prod[1] / 2, prod[2], prod[3])\n",
        "\n",
        "def gera_lista_promocao(produtos, ano_limite, mes_limite):\n",
        "    return [\n",
        "        promo_lambda(prod)\n",
        "        for prod in produtos\n",
        "        if (prod[2] < ano_limite) or (prod[2] == ano_limite and prod[3] <= mes_limite)\n",
        "    ]\n",
        "\n",
        "# Gerar lista de promoções até agosto de 2025\n",
        "lista_promocao = gera_lista_promocao(prods, 2025, 8)\n",
        "\n",
        "precos = [prod[1] for prod in lista_promocao]\n",
        "preco_min = min(precos)\n",
        "preco_max = max(precos)\n",
        "\n",
        "print(f\"Produtos em promoção: {lista_promocao}\")\n",
        "print(f\"Preço mínimo: {preco_min}\")\n",
        "print(f\"Preço máximo: {preco_max}\")"
      ]
    },
    {
      "cell_type": "markdown",
      "metadata": {
        "id": "fTWsNZHmtiFy"
      },
      "source": [
        "## Questão 5\n",
        "\n",
        "Carregue o arquivo `sales2.csv`. Sem realizar nenhum pré processamento\n",
        "\n",
        "1. Crie uma visão do dataframe contendo as colunas Item Type e Total Profit apenas das linhas contendo Order Priority = H ou Order Priority = M, e com Units Sold maior do que 1000.\n",
        "2. Nessa visão, calcule a média e o máximo do Total Profit agrupado pelo Item Type.\n",
        "\n",
        "Quais são os valores de média e máximo para os itens de tipo: Beverages e Fruits, sem considerar casas decimais?\n",
        "\n",
        "a) Beverages: Média=111837, Máximo=147031; Fruits: Média=9485, Máximo 18405<br>\n",
        "b) Beverages: Média=147031, Máximo=147031; Fruits: Média=12228, Máximo 18405<br>\n",
        "c) Beverages: Média=111837, Máximo=111837; Fruits: Média=9485, Máximo 12228<br>\n",
        "d) Beverages: Média=147031, Máximo=147031; Fruits: Média=9485, Máximo 18405<br>\n"
      ]
    },
    {
      "cell_type": "code",
      "execution_count": 1,
      "metadata": {
        "id": "fy0woDBKtiFz",
        "outputId": "1920523d-157a-4925-cb91-0d30d54aff5e"
      },
      "outputs": [
        {
          "data": {
            "text/html": [
              "<div>\n",
              "<style scoped>\n",
              "    .dataframe tbody tr th:only-of-type {\n",
              "        vertical-align: middle;\n",
              "    }\n",
              "\n",
              "    .dataframe tbody tr th {\n",
              "        vertical-align: top;\n",
              "    }\n",
              "\n",
              "    .dataframe thead th {\n",
              "        text-align: right;\n",
              "    }\n",
              "</style>\n",
              "<table border=\"1\" class=\"dataframe\">\n",
              "  <thead>\n",
              "    <tr style=\"text-align: right;\">\n",
              "      <th></th>\n",
              "      <th>Country</th>\n",
              "      <th>Item Type</th>\n",
              "      <th>Online</th>\n",
              "      <th>Order Priority</th>\n",
              "      <th>Order Date</th>\n",
              "      <th>Order ID</th>\n",
              "      <th>Units Sold</th>\n",
              "      <th>Unit Price</th>\n",
              "      <th>Total Revenue</th>\n",
              "      <th>Total Cost</th>\n",
              "      <th>Total Profit</th>\n",
              "      <th>Ship Date</th>\n",
              "    </tr>\n",
              "  </thead>\n",
              "  <tbody>\n",
              "    <tr>\n",
              "      <th>0</th>\n",
              "      <td>Bangladesh</td>\n",
              "      <td>Clothes</td>\n",
              "      <td>1.0</td>\n",
              "      <td>L</td>\n",
              "      <td>1/13/2017</td>\n",
              "      <td>187310731</td>\n",
              "      <td>8263</td>\n",
              "      <td>109.28</td>\n",
              "      <td>902980.64</td>\n",
              "      <td>296145.92</td>\n",
              "      <td>606834.72</td>\n",
              "      <td>3/1/2017</td>\n",
              "    </tr>\n",
              "    <tr>\n",
              "      <th>1</th>\n",
              "      <td>Honduras</td>\n",
              "      <td>Household</td>\n",
              "      <td>0.0</td>\n",
              "      <td>H</td>\n",
              "      <td>2/8/2017</td>\n",
              "      <td>522840487</td>\n",
              "      <td>8974</td>\n",
              "      <td>668.27</td>\n",
              "      <td>5997054.98</td>\n",
              "      <td>4509793.96</td>\n",
              "      <td>1487261.02</td>\n",
              "      <td>2/13/2017</td>\n",
              "    </tr>\n",
              "    <tr>\n",
              "      <th>2</th>\n",
              "      <td>Mongolia</td>\n",
              "      <td>Personal Care</td>\n",
              "      <td>0.0</td>\n",
              "      <td>C</td>\n",
              "      <td>2/19/2014</td>\n",
              "      <td>832401311</td>\n",
              "      <td>4901</td>\n",
              "      <td>81.73</td>\n",
              "      <td>400558.73</td>\n",
              "      <td>277739.67</td>\n",
              "      <td>122819.06</td>\n",
              "      <td>2/23/2014</td>\n",
              "    </tr>\n",
              "    <tr>\n",
              "      <th>3</th>\n",
              "      <td>Bulgaria</td>\n",
              "      <td>Clothes</td>\n",
              "      <td>1.0</td>\n",
              "      <td>M</td>\n",
              "      <td>4/23/2012</td>\n",
              "      <td>972292029</td>\n",
              "      <td>1673</td>\n",
              "      <td>109.28</td>\n",
              "      <td>182825.44</td>\n",
              "      <td>59960.32</td>\n",
              "      <td>122865.12</td>\n",
              "      <td>6/3/2012</td>\n",
              "    </tr>\n",
              "    <tr>\n",
              "      <th>4</th>\n",
              "      <td>Sri Lanka</td>\n",
              "      <td>Cosmetics</td>\n",
              "      <td>0.0</td>\n",
              "      <td>M</td>\n",
              "      <td>11/19/2016</td>\n",
              "      <td>419123971</td>\n",
              "      <td>6952</td>\n",
              "      <td>437.20</td>\n",
              "      <td>3039414.40</td>\n",
              "      <td>1830670.16</td>\n",
              "      <td>1208744.24</td>\n",
              "      <td>12/18/2016</td>\n",
              "    </tr>\n",
              "    <tr>\n",
              "      <th>...</th>\n",
              "      <td>...</td>\n",
              "      <td>...</td>\n",
              "      <td>...</td>\n",
              "      <td>...</td>\n",
              "      <td>...</td>\n",
              "      <td>...</td>\n",
              "      <td>...</td>\n",
              "      <td>...</td>\n",
              "      <td>...</td>\n",
              "      <td>...</td>\n",
              "      <td>...</td>\n",
              "      <td>...</td>\n",
              "    </tr>\n",
              "    <tr>\n",
              "      <th>83</th>\n",
              "      <td>Mali</td>\n",
              "      <td>Clothes</td>\n",
              "      <td>NaN</td>\n",
              "      <td>M</td>\n",
              "      <td>7/26/2011</td>\n",
              "      <td>512878119</td>\n",
              "      <td>888</td>\n",
              "      <td>109.28</td>\n",
              "      <td>97040.64</td>\n",
              "      <td>31825.92</td>\n",
              "      <td>65214.72</td>\n",
              "      <td>9/3/2011</td>\n",
              "    </tr>\n",
              "    <tr>\n",
              "      <th>84</th>\n",
              "      <td>Malaysia</td>\n",
              "      <td>Fruits</td>\n",
              "      <td>NaN</td>\n",
              "      <td>L</td>\n",
              "      <td>11/11/2011</td>\n",
              "      <td>810711038</td>\n",
              "      <td>6267</td>\n",
              "      <td>9.33</td>\n",
              "      <td>58471.11</td>\n",
              "      <td>43367.64</td>\n",
              "      <td>15103.47</td>\n",
              "      <td>12/28/2011</td>\n",
              "    </tr>\n",
              "    <tr>\n",
              "      <th>85</th>\n",
              "      <td>Sierra Leone</td>\n",
              "      <td>Vegetables</td>\n",
              "      <td>NaN</td>\n",
              "      <td>C</td>\n",
              "      <td>6/1/2016</td>\n",
              "      <td>728815257</td>\n",
              "      <td>1485</td>\n",
              "      <td>154.06</td>\n",
              "      <td>228779.10</td>\n",
              "      <td>135031.05</td>\n",
              "      <td>93748.05</td>\n",
              "      <td>6/29/2016</td>\n",
              "    </tr>\n",
              "    <tr>\n",
              "      <th>86</th>\n",
              "      <td>Mexico</td>\n",
              "      <td>Personal Care</td>\n",
              "      <td>NaN</td>\n",
              "      <td>M</td>\n",
              "      <td>7/30/2015</td>\n",
              "      <td>559427106</td>\n",
              "      <td>5767</td>\n",
              "      <td>81.73</td>\n",
              "      <td>471336.91</td>\n",
              "      <td>326815.89</td>\n",
              "      <td>144521.02</td>\n",
              "      <td>8/8/2015</td>\n",
              "    </tr>\n",
              "    <tr>\n",
              "      <th>87</th>\n",
              "      <td>Mozambique</td>\n",
              "      <td>Household</td>\n",
              "      <td>NaN</td>\n",
              "      <td>L</td>\n",
              "      <td>2/10/2012</td>\n",
              "      <td>665095412</td>\n",
              "      <td>5367</td>\n",
              "      <td>668.27</td>\n",
              "      <td>3586605.09</td>\n",
              "      <td>2697132.18</td>\n",
              "      <td>889472.91</td>\n",
              "      <td>2/15/2012</td>\n",
              "    </tr>\n",
              "  </tbody>\n",
              "</table>\n",
              "<p>88 rows × 12 columns</p>\n",
              "</div>"
            ],
            "text/plain": [
              "         Country      Item Type  Online Order Priority  Order Date   Order ID  \\\n",
              "0     Bangladesh        Clothes     1.0              L   1/13/2017  187310731   \n",
              "1       Honduras      Household     0.0              H    2/8/2017  522840487   \n",
              "2       Mongolia  Personal Care     0.0              C   2/19/2014  832401311   \n",
              "3       Bulgaria        Clothes     1.0              M   4/23/2012  972292029   \n",
              "4      Sri Lanka      Cosmetics     0.0              M  11/19/2016  419123971   \n",
              "..           ...            ...     ...            ...         ...        ...   \n",
              "83          Mali        Clothes     NaN              M   7/26/2011  512878119   \n",
              "84      Malaysia         Fruits     NaN              L  11/11/2011  810711038   \n",
              "85  Sierra Leone     Vegetables     NaN              C    6/1/2016  728815257   \n",
              "86        Mexico  Personal Care     NaN              M   7/30/2015  559427106   \n",
              "87    Mozambique      Household     NaN              L   2/10/2012  665095412   \n",
              "\n",
              "    Units Sold  Unit Price  Total Revenue  Total Cost  Total Profit  \\\n",
              "0         8263      109.28      902980.64   296145.92     606834.72   \n",
              "1         8974      668.27     5997054.98  4509793.96    1487261.02   \n",
              "2         4901       81.73      400558.73   277739.67     122819.06   \n",
              "3         1673      109.28      182825.44    59960.32     122865.12   \n",
              "4         6952      437.20     3039414.40  1830670.16    1208744.24   \n",
              "..         ...         ...            ...         ...           ...   \n",
              "83         888      109.28       97040.64    31825.92      65214.72   \n",
              "84        6267        9.33       58471.11    43367.64      15103.47   \n",
              "85        1485      154.06      228779.10   135031.05      93748.05   \n",
              "86        5767       81.73      471336.91   326815.89     144521.02   \n",
              "87        5367      668.27     3586605.09  2697132.18     889472.91   \n",
              "\n",
              "     Ship Date  \n",
              "0     3/1/2017  \n",
              "1    2/13/2017  \n",
              "2    2/23/2014  \n",
              "3     6/3/2012  \n",
              "4   12/18/2016  \n",
              "..         ...  \n",
              "83    9/3/2011  \n",
              "84  12/28/2011  \n",
              "85   6/29/2016  \n",
              "86    8/8/2015  \n",
              "87   2/15/2012  \n",
              "\n",
              "[88 rows x 12 columns]"
            ]
          },
          "execution_count": 1,
          "metadata": {},
          "output_type": "execute_result"
        }
      ],
      "source": [
        "import pandas as pd\n",
        "import numpy as np\n",
        "df = pd.read_csv('Arquivos/sales2.csv')\n",
        "df"
      ]
    },
    {
      "cell_type": "code",
      "execution_count": 18,
      "metadata": {},
      "outputs": [
        {
          "name": "stdout",
          "output_type": "stream",
          "text": [
            "             mean     max\n",
            "Item Type                \n",
            "Beverages  147032  147032\n",
            "Fruits      12228   18405\n"
          ]
        }
      ],
      "source": [
        "visao = df[\n",
        "    (df['Order Priority'].isin(['H', 'M'])) &\n",
        "    (df['Units Sold'] > 1000)\n",
        "][['Item Type', 'Total Profit']]\n",
        "\n",
        "agrupado = visao.groupby('Item Type')['Total Profit'].agg(['mean', 'max'])\n",
        "\n",
        "resultados = agrupado.loc[['Beverages', 'Fruits']].round(0).astype(int)\n",
        "\n",
        "print(resultados)"
      ]
    }
  ],
  "metadata": {
    "colab": {
      "collapsed_sections": [],
      "name": "Python_atividades_quinzenais_solucoes.ipynb",
      "provenance": []
    },
    "kernelspec": {
      "display_name": "Python 3",
      "language": "python",
      "name": "python3"
    },
    "language_info": {
      "codemirror_mode": {
        "name": "ipython",
        "version": 3
      },
      "file_extension": ".py",
      "mimetype": "text/x-python",
      "name": "python",
      "nbconvert_exporter": "python",
      "pygments_lexer": "ipython3",
      "version": "3.9.6"
    },
    "toc": {
      "base_numbering": 1,
      "nav_menu": {},
      "number_sections": true,
      "sideBar": true,
      "skip_h1_title": false,
      "title_cell": "Table of Contents",
      "title_sidebar": "Contents",
      "toc_cell": false,
      "toc_position": {},
      "toc_section_display": true,
      "toc_window_display": false
    }
  },
  "nbformat": 4,
  "nbformat_minor": 0
}
